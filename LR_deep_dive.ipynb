{
 "cells": [
  {
   "cell_type": "code",
   "execution_count": 7,
   "id": "c7e315eb",
   "metadata": {
    "ExecuteTime": {
     "end_time": "2022-03-17T01:04:00.654541Z",
     "start_time": "2022-03-17T01:04:00.646386Z"
    }
   },
   "outputs": [],
   "source": [
    "import numpy as np\n",
    "import pandas as pd\n",
    "import matplotlib.pyplot as plt\n",
    "import seaborn as sns\n",
    "import matplotlib.patches as patches\n",
    "import statsmodels.api as sm\n",
    "import statsmodels.formula.api as smf\n",
    "from statsmodels.stats.outliers_influence import variance_inflation_factor\n",
    "from patsy import dmatrices\n",
    "from statsmodels.stats.diagnostic import het_breuschpagan"
   ]
  },
  {
   "cell_type": "code",
   "execution_count": 8,
   "id": "9c3dd97f",
   "metadata": {
    "ExecuteTime": {
     "end_time": "2022-03-17T01:04:00.921845Z",
     "start_time": "2022-03-17T01:04:00.906628Z"
    }
   },
   "outputs": [],
   "source": [
    "data = pd.read_csv('data/Insurance.csv')"
   ]
  },
  {
   "cell_type": "markdown",
   "id": "4fca1c2c",
   "metadata": {},
   "source": [
    "**The dataset has 6 predictor variables. `charges` is a response variable**"
   ]
  },
  {
   "cell_type": "code",
   "execution_count": 9,
   "id": "b56ac7bd",
   "metadata": {
    "ExecuteTime": {
     "end_time": "2022-03-17T01:04:01.524106Z",
     "start_time": "2022-03-17T01:04:01.505057Z"
    }
   },
   "outputs": [
    {
     "data": {
      "text/html": [
       "<div>\n",
       "<style scoped>\n",
       "    .dataframe tbody tr th:only-of-type {\n",
       "        vertical-align: middle;\n",
       "    }\n",
       "\n",
       "    .dataframe tbody tr th {\n",
       "        vertical-align: top;\n",
       "    }\n",
       "\n",
       "    .dataframe thead th {\n",
       "        text-align: right;\n",
       "    }\n",
       "</style>\n",
       "<table border=\"1\" class=\"dataframe\">\n",
       "  <thead>\n",
       "    <tr style=\"text-align: right;\">\n",
       "      <th></th>\n",
       "      <th>age</th>\n",
       "      <th>sex</th>\n",
       "      <th>bmi</th>\n",
       "      <th>children</th>\n",
       "      <th>smoker</th>\n",
       "      <th>region</th>\n",
       "      <th>charges</th>\n",
       "    </tr>\n",
       "  </thead>\n",
       "  <tbody>\n",
       "    <tr>\n",
       "      <th>0</th>\n",
       "      <td>19</td>\n",
       "      <td>female</td>\n",
       "      <td>27.90</td>\n",
       "      <td>0</td>\n",
       "      <td>yes</td>\n",
       "      <td>southwest</td>\n",
       "      <td>16884.9240</td>\n",
       "    </tr>\n",
       "    <tr>\n",
       "      <th>1</th>\n",
       "      <td>18</td>\n",
       "      <td>male</td>\n",
       "      <td>33.77</td>\n",
       "      <td>1</td>\n",
       "      <td>no</td>\n",
       "      <td>southeast</td>\n",
       "      <td>1725.5523</td>\n",
       "    </tr>\n",
       "    <tr>\n",
       "      <th>2</th>\n",
       "      <td>28</td>\n",
       "      <td>male</td>\n",
       "      <td>33.00</td>\n",
       "      <td>3</td>\n",
       "      <td>no</td>\n",
       "      <td>southeast</td>\n",
       "      <td>4449.4620</td>\n",
       "    </tr>\n",
       "  </tbody>\n",
       "</table>\n",
       "</div>"
      ],
      "text/plain": [
       "   age     sex    bmi  children smoker     region     charges\n",
       "0   19  female  27.90         0    yes  southwest  16884.9240\n",
       "1   18    male  33.77         1     no  southeast   1725.5523\n",
       "2   28    male  33.00         3     no  southeast   4449.4620"
      ]
     },
     "execution_count": 9,
     "metadata": {},
     "output_type": "execute_result"
    }
   ],
   "source": [
    "data.head(3)"
   ]
  },
  {
   "cell_type": "code",
   "execution_count": 10,
   "id": "599abfda",
   "metadata": {
    "ExecuteTime": {
     "end_time": "2022-03-17T01:04:01.895459Z",
     "start_time": "2022-03-17T01:04:01.867953Z"
    }
   },
   "outputs": [
    {
     "data": {
      "text/html": [
       "<div>\n",
       "<style scoped>\n",
       "    .dataframe tbody tr th:only-of-type {\n",
       "        vertical-align: middle;\n",
       "    }\n",
       "\n",
       "    .dataframe tbody tr th {\n",
       "        vertical-align: top;\n",
       "    }\n",
       "\n",
       "    .dataframe thead th {\n",
       "        text-align: right;\n",
       "    }\n",
       "</style>\n",
       "<table border=\"1\" class=\"dataframe\">\n",
       "  <thead>\n",
       "    <tr style=\"text-align: right;\">\n",
       "      <th></th>\n",
       "      <th>age</th>\n",
       "      <th>bmi</th>\n",
       "      <th>children</th>\n",
       "      <th>charges</th>\n",
       "    </tr>\n",
       "  </thead>\n",
       "  <tbody>\n",
       "    <tr>\n",
       "      <th>count</th>\n",
       "      <td>1338.000000</td>\n",
       "      <td>1338.000000</td>\n",
       "      <td>1338.000000</td>\n",
       "      <td>1338.000000</td>\n",
       "    </tr>\n",
       "    <tr>\n",
       "      <th>mean</th>\n",
       "      <td>39.207025</td>\n",
       "      <td>30.663397</td>\n",
       "      <td>1.094918</td>\n",
       "      <td>13270.422265</td>\n",
       "    </tr>\n",
       "    <tr>\n",
       "      <th>std</th>\n",
       "      <td>14.049960</td>\n",
       "      <td>6.098187</td>\n",
       "      <td>1.205493</td>\n",
       "      <td>12110.011237</td>\n",
       "    </tr>\n",
       "    <tr>\n",
       "      <th>min</th>\n",
       "      <td>18.000000</td>\n",
       "      <td>15.960000</td>\n",
       "      <td>0.000000</td>\n",
       "      <td>1121.873900</td>\n",
       "    </tr>\n",
       "    <tr>\n",
       "      <th>25%</th>\n",
       "      <td>27.000000</td>\n",
       "      <td>26.296250</td>\n",
       "      <td>0.000000</td>\n",
       "      <td>4740.287150</td>\n",
       "    </tr>\n",
       "    <tr>\n",
       "      <th>50%</th>\n",
       "      <td>39.000000</td>\n",
       "      <td>30.400000</td>\n",
       "      <td>1.000000</td>\n",
       "      <td>9382.033000</td>\n",
       "    </tr>\n",
       "    <tr>\n",
       "      <th>75%</th>\n",
       "      <td>51.000000</td>\n",
       "      <td>34.693750</td>\n",
       "      <td>2.000000</td>\n",
       "      <td>16639.912515</td>\n",
       "    </tr>\n",
       "    <tr>\n",
       "      <th>max</th>\n",
       "      <td>64.000000</td>\n",
       "      <td>53.130000</td>\n",
       "      <td>5.000000</td>\n",
       "      <td>63770.428010</td>\n",
       "    </tr>\n",
       "  </tbody>\n",
       "</table>\n",
       "</div>"
      ],
      "text/plain": [
       "               age          bmi     children       charges\n",
       "count  1338.000000  1338.000000  1338.000000   1338.000000\n",
       "mean     39.207025    30.663397     1.094918  13270.422265\n",
       "std      14.049960     6.098187     1.205493  12110.011237\n",
       "min      18.000000    15.960000     0.000000   1121.873900\n",
       "25%      27.000000    26.296250     0.000000   4740.287150\n",
       "50%      39.000000    30.400000     1.000000   9382.033000\n",
       "75%      51.000000    34.693750     2.000000  16639.912515\n",
       "max      64.000000    53.130000     5.000000  63770.428010"
      ]
     },
     "execution_count": 10,
     "metadata": {},
     "output_type": "execute_result"
    }
   ],
   "source": [
    "data.describe()"
   ]
  },
  {
   "cell_type": "code",
   "execution_count": 11,
   "id": "a2b85ec9",
   "metadata": {
    "ExecuteTime": {
     "end_time": "2022-03-17T01:04:02.280137Z",
     "start_time": "2022-03-17T01:04:02.270641Z"
    }
   },
   "outputs": [
    {
     "data": {
      "text/plain": [
       "age           int64\n",
       "sex          object\n",
       "bmi         float64\n",
       "children      int64\n",
       "smoker       object\n",
       "region       object\n",
       "charges     float64\n",
       "dtype: object"
      ]
     },
     "execution_count": 11,
     "metadata": {},
     "output_type": "execute_result"
    }
   ],
   "source": [
    "data.dtypes"
   ]
  },
  {
   "cell_type": "code",
   "execution_count": 12,
   "id": "928af876",
   "metadata": {
    "ExecuteTime": {
     "end_time": "2022-03-17T01:04:02.974101Z",
     "start_time": "2022-03-17T01:04:02.968043Z"
    }
   },
   "outputs": [],
   "source": [
    "data.head(3)\n",
    "data['children'] = data.children.astype('category')"
   ]
  },
  {
   "cell_type": "markdown",
   "id": "3cb59005",
   "metadata": {},
   "source": [
    "**checking the missing values count for each variable**"
   ]
  },
  {
   "cell_type": "code",
   "execution_count": 6,
   "id": "29981ce9",
   "metadata": {},
   "outputs": [
    {
     "data": {
      "text/plain": [
       "age         0\n",
       "sex         0\n",
       "bmi         0\n",
       "children    0\n",
       "smoker      0\n",
       "region      0\n",
       "charges     0\n",
       "dtype: int64"
      ]
     },
     "execution_count": 6,
     "metadata": {},
     "output_type": "execute_result"
    }
   ],
   "source": [
    "data.isnull().sum() "
   ]
  },
  {
   "cell_type": "markdown",
   "id": "a4ddebe6",
   "metadata": {},
   "source": [
    "**Histogram shows that the response variable is right skewed**"
   ]
  },
  {
   "cell_type": "code",
   "execution_count": 13,
   "id": "b860676c",
   "metadata": {
    "ExecuteTime": {
     "end_time": "2022-03-17T01:05:22.875087Z",
     "start_time": "2022-03-17T01:05:22.744256Z"
    }
   },
   "outputs": [
    {
     "data": {
      "image/png": "[encoded data removed]",
      "text/plain": [
       "<Figure size 576x432 with 1 Axes>"
      ]
     },
     "metadata": {
      "needs_background": "light"
     },
     "output_type": "display_data"
    }
   ],
   "source": [
    "fig, ax = plt.subplots(figsize = (8, 6))\n",
    "ax.hist(data['charges'], bins = 15)\n",
    "ax.set_xlabel('charges')\n",
    "ax.spines['top'].set_visible(False)\n",
    "ax.spines['right'].set_visible(False)\n",
    "plt.show()"
   ]
  },
  {
   "cell_type": "markdown",
   "id": "aec138dc",
   "metadata": {},
   "source": [
    "**Correlation coefficient shows that the numerical variables does not have significant correlation**"
   ]
  },
  {
   "cell_type": "code",
   "execution_count": 8,
   "id": "35881834",
   "metadata": {},
   "outputs": [
    {
     "data": {
      "text/plain": [
       "<AxesSubplot:>"
      ]
     },
     "execution_count": 8,
     "metadata": {},
     "output_type": "execute_result"
    },
    {
     "data": {
      "image/png": "[encoded data removed]",
      "text/plain": [
       "<Figure size 1152x360 with 2 Axes>"
      ]
     },
     "metadata": {
      "needs_background": "light"
     },
     "output_type": "display_data"
    }
   ],
   "source": [
    "import seaborn as sns\n",
    "correlation_matrix = data.corr().round(2)\n",
    "plt.figure(figsize = (16,5))\n",
    "sns.heatmap(data=correlation_matrix, annot=True)"
   ]
  },
  {
   "cell_type": "markdown",
   "id": "b1acec90",
   "metadata": {},
   "source": [
    "**Insurance charges are more for smoker compared to non smoker**"
   ]
  },
  {
   "cell_type": "code",
   "execution_count": 9,
   "id": "e73dacb8",
   "metadata": {},
   "outputs": [
    {
     "data": {
      "image/png": "[encoded data removed]",
      "text/plain": [
       "<Figure size 432x288 with 1 Axes>"
      ]
     },
     "metadata": {
      "needs_background": "light"
     },
     "output_type": "display_data"
    }
   ],
   "source": [
    "avg_charges_smoker = data.groupby('smoker').mean()['charges']\n",
    "fig, ax = plt.subplots(figsize=(6,4))\n",
    "ax.barh(avg_charges_smoker.index, avg_charges_smoker, color='lightsteelblue')\n",
    "plt.ylabel(\"Smoking Status\")\n",
    "plt.xlabel(\"Average Charges\")\n",
    "#plt.xticks(np.arange(2, 18, step=2))\n",
    "plt.title(\"Average Charges by Smoking Status\")\n",
    "plt.show()"
   ]
  },
  {
   "cell_type": "code",
   "execution_count": 16,
   "id": "fef4e1a8",
   "metadata": {
    "ExecuteTime": {
     "end_time": "2022-03-17T01:08:31.163241Z",
     "start_time": "2022-03-17T01:08:31.044914Z"
    }
   },
   "outputs": [
    {
     "data": {
      "image/png": "[encoded data removed]",
      "text/plain": [
       "<Figure size 576x576 with 1 Axes>"
      ]
     },
     "metadata": {
      "needs_background": "light"
     },
     "output_type": "display_data"
    }
   ],
   "source": [
    "fig, ax = plt.subplots(figsize=(8,8)) \n",
    "ax.scatter(data['bmi'], data['charges'])\n",
    "plt.title(\"BMI vs charges\")\n",
    "plt.ylabel(\"charges\")\n",
    "plt.xlabel(\"BMI\")\n",
    "plt.show()"
   ]
  },
  {
   "cell_type": "markdown",
   "id": "010aa5d7",
   "metadata": {
    "ExecuteTime": {
     "end_time": "2022-03-17T01:09:07.726480Z",
     "start_time": "2022-03-17T01:09:07.721143Z"
    }
   },
   "source": [
    "**Not a very signifant difference in charges to male vs females, fair enough!**"
   ]
  },
  {
   "cell_type": "code",
   "execution_count": 11,
   "id": "463c07a2",
   "metadata": {},
   "outputs": [
    {
     "data": {
      "image/png": "[encoded data removed]",
      "text/plain": [
       "<Figure size 432x288 with 1 Axes>"
      ]
     },
     "metadata": {
      "needs_background": "light"
     },
     "output_type": "display_data"
    }
   ],
   "source": [
    "avg_charges_sex = data.groupby('sex').mean()['charges']\n",
    "fig, ax = plt.subplots(figsize=(6,4))\n",
    "ax.barh(avg_charges_sex.index, avg_charges_sex, color='lightsteelblue')\n",
    "plt.ylabel(\"Sex\")\n",
    "plt.xlabel(\"Average Charges\")\n",
    "#plt.xticks(np.arange(2, 18, step=2))\n",
    "plt.title(\"Average Charges by Sex\")\n",
    "plt.show()"
   ]
  },
  {
   "cell_type": "code",
   "execution_count": 12,
   "id": "508363ee",
   "metadata": {},
   "outputs": [
    {
     "data": {
      "image/png": "[encoded data removed]",
      "text/plain": [
       "<Figure size 864x864 with 1 Axes>"
      ]
     },
     "metadata": {
      "needs_background": "light"
     },
     "output_type": "display_data"
    }
   ],
   "source": [
    "# not very related, get tested later (Not significant)\n",
    "avg_charges_age = data.groupby('age').mean()['charges']\n",
    "\n",
    "fig, ax = plt.subplots(figsize=(12,12)) \n",
    "ax.scatter(avg_charges_age.index, avg_charges_age)\n",
    "\n",
    "plt.ylabel(\"Average Charges\")\n",
    "plt.xlabel(\"Age\")\n",
    "plt.title(\"Average Charges by Age\")\n",
    "plt.show()"
   ]
  },
  {
   "cell_type": "code",
   "execution_count": 13,
   "id": "221bcd90",
   "metadata": {},
   "outputs": [
    {
     "data": {
      "image/png": "[encoded data removed]",
      "text/plain": [
       "<Figure size 720x576 with 1 Axes>"
      ]
     },
     "metadata": {
      "needs_background": "light"
     },
     "output_type": "display_data"
    }
   ],
   "source": [
    "# not very related, get tested later (Not significant)\n",
    "avg_charges_children = data.groupby('children').mean()['charges']\n",
    "\n",
    "fig, ax = plt.subplots(figsize=(10,8))\n",
    "ax.barh(avg_charges_children.index, avg_charges_children, color='lightsteelblue')\n",
    "plt.ylabel(\"Number of Dependent Children\")\n",
    "plt.xlabel(\"Average Charges\")\n",
    "#plt.xticks(np.arange(2, 18, step=2))\n",
    "plt.title(\"Average Charges by Number of Dependent Children\")\n",
    "plt.show()"
   ]
  },
  {
   "cell_type": "code",
   "execution_count": 14,
   "id": "814b4be6",
   "metadata": {},
   "outputs": [
    {
     "data": {
      "image/png": "[encoded data removed]",
      "text/plain": [
       "<Figure size 720x576 with 1 Axes>"
      ]
     },
     "metadata": {
      "needs_background": "light"
     },
     "output_type": "display_data"
    }
   ],
   "source": [
    "# not very related, get tested later (Not significant)\n",
    "avg_charges_region = data.groupby('region').mean()['charges']\n",
    "\n",
    "fig, ax = plt.subplots(figsize=(10,8))\n",
    "ax.barh(avg_charges_region.index, avg_charges_region, color='lightsteelblue')\n",
    "plt.ylabel(\"Region\")\n",
    "plt.xlabel(\"Average Charges\")\n",
    "#plt.xticks(np.arange(2, 18, step=2))\n",
    "plt.title(\"Average Charges by Region\")\n",
    "plt.show()"
   ]
  },
  {
   "cell_type": "markdown",
   "id": "0c15b1f9",
   "metadata": {},
   "source": [
    "# Model 1"
   ]
  },
  {
   "cell_type": "code",
   "execution_count": 22,
   "id": "f486a012",
   "metadata": {},
   "outputs": [
    {
     "data": {
      "text/html": [
       "<table class=\"simpletable\">\n",
       "<caption>OLS Regression Results</caption>\n",
       "<tr>\n",
       "  <th>Dep. Variable:</th>         <td>charges</td>     <th>  R-squared:         </th> <td>   0.752</td> \n",
       "</tr>\n",
       "<tr>\n",
       "  <th>Model:</th>                   <td>OLS</td>       <th>  Adj. R-squared:    </th> <td>   0.750</td> \n",
       "</tr>\n",
       "<tr>\n",
       "  <th>Method:</th>             <td>Least Squares</td>  <th>  F-statistic:       </th> <td>   334.7</td> \n",
       "</tr>\n",
       "<tr>\n",
       "  <th>Date:</th>             <td>Fri, 15 Oct 2021</td> <th>  Prob (F-statistic):</th>  <td>  0.00</td>  \n",
       "</tr>\n",
       "<tr>\n",
       "  <th>Time:</th>                 <td>12:47:30</td>     <th>  Log-Likelihood:    </th> <td> -13545.</td> \n",
       "</tr>\n",
       "<tr>\n",
       "  <th>No. Observations:</th>      <td>  1338</td>      <th>  AIC:               </th> <td>2.712e+04</td>\n",
       "</tr>\n",
       "<tr>\n",
       "  <th>Df Residuals:</th>          <td>  1325</td>      <th>  BIC:               </th> <td>2.718e+04</td>\n",
       "</tr>\n",
       "<tr>\n",
       "  <th>Df Model:</th>              <td>    12</td>      <th>                     </th>     <td> </td>    \n",
       "</tr>\n",
       "<tr>\n",
       "  <th>Covariance Type:</th>      <td>nonrobust</td>    <th>                     </th>     <td> </td>    \n",
       "</tr>\n",
       "</table>\n",
       "<table class=\"simpletable\">\n",
       "<tr>\n",
       "           <td></td>              <th>coef</th>     <th>std err</th>      <th>t</th>      <th>P>|t|</th>  <th>[0.025</th>    <th>0.975]</th>  \n",
       "</tr>\n",
       "<tr>\n",
       "  <th>Intercept</th>           <td>-1.193e+04</td> <td>  993.657</td> <td>  -12.003</td> <td> 0.000</td> <td>-1.39e+04</td> <td>-9977.861</td>\n",
       "</tr>\n",
       "<tr>\n",
       "  <th>sex[T.male]</th>         <td> -128.1616</td> <td>  332.834</td> <td>   -0.385</td> <td> 0.700</td> <td> -781.101</td> <td>  524.778</td>\n",
       "</tr>\n",
       "<tr>\n",
       "  <th>children[T.1]</th>       <td>  390.9782</td> <td>  421.350</td> <td>    0.928</td> <td> 0.354</td> <td> -435.608</td> <td> 1217.565</td>\n",
       "</tr>\n",
       "<tr>\n",
       "  <th>children[T.2]</th>       <td> 1635.7772</td> <td>  466.670</td> <td>    3.505</td> <td> 0.000</td> <td>  720.284</td> <td> 2551.270</td>\n",
       "</tr>\n",
       "<tr>\n",
       "  <th>children[T.3]</th>       <td>  964.3403</td> <td>  548.097</td> <td>    1.759</td> <td> 0.079</td> <td> -110.893</td> <td> 2039.574</td>\n",
       "</tr>\n",
       "<tr>\n",
       "  <th>children[T.4]</th>       <td> 2947.3680</td> <td> 1239.163</td> <td>    2.379</td> <td> 0.018</td> <td>  516.432</td> <td> 5378.304</td>\n",
       "</tr>\n",
       "<tr>\n",
       "  <th>children[T.5]</th>       <td> 1116.0395</td> <td> 1456.015</td> <td>    0.767</td> <td> 0.444</td> <td>-1740.307</td> <td> 3972.386</td>\n",
       "</tr>\n",
       "<tr>\n",
       "  <th>smoker[T.yes]</th>       <td> 2.384e+04</td> <td>  414.139</td> <td>   57.557</td> <td> 0.000</td> <td>  2.3e+04</td> <td> 2.46e+04</td>\n",
       "</tr>\n",
       "<tr>\n",
       "  <th>region[T.northwest]</th> <td> -380.0439</td> <td>  476.559</td> <td>   -0.797</td> <td> 0.425</td> <td>-1314.936</td> <td>  554.848</td>\n",
       "</tr>\n",
       "<tr>\n",
       "  <th>region[T.southeast]</th> <td>-1033.1375</td> <td>  479.139</td> <td>   -2.156</td> <td> 0.031</td> <td>-1973.091</td> <td>  -93.184</td>\n",
       "</tr>\n",
       "<tr>\n",
       "  <th>region[T.southwest]</th> <td> -952.8878</td> <td>  478.153</td> <td>   -1.993</td> <td> 0.046</td> <td>-1890.908</td> <td>  -14.867</td>\n",
       "</tr>\n",
       "<tr>\n",
       "  <th>age</th>                 <td>  257.1933</td> <td>   11.914</td> <td>   21.587</td> <td> 0.000</td> <td>  233.820</td> <td>  280.567</td>\n",
       "</tr>\n",
       "<tr>\n",
       "  <th>bmi</th>                 <td>  336.9088</td> <td>   28.612</td> <td>   11.775</td> <td> 0.000</td> <td>  280.779</td> <td>  393.039</td>\n",
       "</tr>\n",
       "</table>\n",
       "<table class=\"simpletable\">\n",
       "<tr>\n",
       "  <th>Omnibus:</th>       <td>293.990</td> <th>  Durbin-Watson:     </th> <td>   2.084</td> \n",
       "</tr>\n",
       "<tr>\n",
       "  <th>Prob(Omnibus):</th> <td> 0.000</td>  <th>  Jarque-Bera (JB):  </th> <td> 695.789</td> \n",
       "</tr>\n",
       "<tr>\n",
       "  <th>Skew:</th>          <td> 1.191</td>  <th>  Prob(JB):          </th> <td>8.15e-152</td>\n",
       "</tr>\n",
       "<tr>\n",
       "  <th>Kurtosis:</th>      <td> 5.609</td>  <th>  Cond. No.          </th> <td>    453.</td> \n",
       "</tr>\n",
       "</table><br/><br/>Notes:<br/>[1] Standard Errors assume that the covariance matrix of the errors is correctly specified."
      ],
      "text/plain": [
       "<class 'statsmodels.iolib.summary.Summary'>\n",
       "\"\"\"\n",
       "                            OLS Regression Results                            \n",
       "==============================================================================\n",
       "Dep. Variable:                charges   R-squared:                       0.752\n",
       "Model:                            OLS   Adj. R-squared:                  0.750\n",
       "Method:                 Least Squares   F-statistic:                     334.7\n",
       "Date:                Fri, 15 Oct 2021   Prob (F-statistic):               0.00\n",
       "Time:                        12:47:30   Log-Likelihood:                -13545.\n",
       "No. Observations:                1338   AIC:                         2.712e+04\n",
       "Df Residuals:                    1325   BIC:                         2.718e+04\n",
       "Df Model:                          12                                         \n",
       "Covariance Type:            nonrobust                                         \n",
       "=======================================================================================\n",
       "                          coef    std err          t      P>|t|      [0.025      0.975]\n",
       "---------------------------------------------------------------------------------------\n",
       "Intercept           -1.193e+04    993.657    -12.003      0.000   -1.39e+04   -9977.861\n",
       "sex[T.male]          -128.1616    332.834     -0.385      0.700    -781.101     524.778\n",
       "children[T.1]         390.9782    421.350      0.928      0.354    -435.608    1217.565\n",
       "children[T.2]        1635.7772    466.670      3.505      0.000     720.284    2551.270\n",
       "children[T.3]         964.3403    548.097      1.759      0.079    -110.893    2039.574\n",
       "children[T.4]        2947.3680   1239.163      2.379      0.018     516.432    5378.304\n",
       "children[T.5]        1116.0395   1456.015      0.767      0.444   -1740.307    3972.386\n",
       "smoker[T.yes]        2.384e+04    414.139     57.557      0.000     2.3e+04    2.46e+04\n",
       "region[T.northwest]  -380.0439    476.559     -0.797      0.425   -1314.936     554.848\n",
       "region[T.southeast] -1033.1375    479.139     -2.156      0.031   -1973.091     -93.184\n",
       "region[T.southwest]  -952.8878    478.153     -1.993      0.046   -1890.908     -14.867\n",
       "age                   257.1933     11.914     21.587      0.000     233.820     280.567\n",
       "bmi                   336.9088     28.612     11.775      0.000     280.779     393.039\n",
       "==============================================================================\n",
       "Omnibus:                      293.990   Durbin-Watson:                   2.084\n",
       "Prob(Omnibus):                  0.000   Jarque-Bera (JB):              695.789\n",
       "Skew:                           1.191   Prob(JB):                    8.15e-152\n",
       "Kurtosis:                       5.609   Cond. No.                         453.\n",
       "==============================================================================\n",
       "\n",
       "Notes:\n",
       "[1] Standard Errors assume that the covariance matrix of the errors is correctly specified.\n",
       "\"\"\""
      ]
     },
     "execution_count": 22,
     "metadata": {},
     "output_type": "execute_result"
    }
   ],
   "source": [
    "reg1 = smf.ols('charges~age+sex+bmi+children+smoker+region',data=data).fit()\n",
    "reg1.summary()"
   ]
  },
  {
   "cell_type": "code",
   "execution_count": 18,
   "id": "b14ceb65",
   "metadata": {},
   "outputs": [
    {
     "data": {
      "text/html": [
       "<div>\n",
       "<style scoped>\n",
       "    .dataframe tbody tr th:only-of-type {\n",
       "        vertical-align: middle;\n",
       "    }\n",
       "\n",
       "    .dataframe tbody tr th {\n",
       "        vertical-align: top;\n",
       "    }\n",
       "\n",
       "    .dataframe thead th {\n",
       "        text-align: right;\n",
       "    }\n",
       "</style>\n",
       "<table border=\"1\" class=\"dataframe\">\n",
       "  <thead>\n",
       "    <tr style=\"text-align: right;\">\n",
       "      <th></th>\n",
       "      <th>df</th>\n",
       "      <th>sum_sq</th>\n",
       "      <th>mean_sq</th>\n",
       "      <th>F</th>\n",
       "      <th>PR(&gt;F)</th>\n",
       "    </tr>\n",
       "  </thead>\n",
       "  <tbody>\n",
       "    <tr>\n",
       "      <th>sex</th>\n",
       "      <td>1.0</td>\n",
       "      <td>6.435902e+08</td>\n",
       "      <td>6.435902e+08</td>\n",
       "      <td>17.532341</td>\n",
       "      <td>3.011108e-05</td>\n",
       "    </tr>\n",
       "    <tr>\n",
       "      <th>children</th>\n",
       "      <td>5.0</td>\n",
       "      <td>2.394585e+09</td>\n",
       "      <td>4.789171e+08</td>\n",
       "      <td>13.046404</td>\n",
       "      <td>2.036612e-12</td>\n",
       "    </tr>\n",
       "    <tr>\n",
       "      <th>smoker</th>\n",
       "      <td>1.0</td>\n",
       "      <td>1.195787e+11</td>\n",
       "      <td>1.195787e+11</td>\n",
       "      <td>3257.498499</td>\n",
       "      <td>0.000000e+00</td>\n",
       "    </tr>\n",
       "    <tr>\n",
       "      <th>region</th>\n",
       "      <td>3.0</td>\n",
       "      <td>1.379901e+08</td>\n",
       "      <td>4.599671e+07</td>\n",
       "      <td>1.253018</td>\n",
       "      <td>2.891466e-01</td>\n",
       "    </tr>\n",
       "    <tr>\n",
       "      <th>age</th>\n",
       "      <td>1.0</td>\n",
       "      <td>1.959062e+10</td>\n",
       "      <td>1.959062e+10</td>\n",
       "      <td>533.677305</td>\n",
       "      <td>1.703240e-99</td>\n",
       "    </tr>\n",
       "    <tr>\n",
       "      <th>bmi</th>\n",
       "      <td>1.0</td>\n",
       "      <td>5.089679e+09</td>\n",
       "      <td>5.089679e+09</td>\n",
       "      <td>138.650315</td>\n",
       "      <td>1.641433e-30</td>\n",
       "    </tr>\n",
       "    <tr>\n",
       "      <th>Residual</th>\n",
       "      <td>1325.0</td>\n",
       "      <td>4.863908e+10</td>\n",
       "      <td>3.670874e+07</td>\n",
       "      <td>NaN</td>\n",
       "      <td>NaN</td>\n",
       "    </tr>\n",
       "  </tbody>\n",
       "</table>\n",
       "</div>"
      ],
      "text/plain": [
       "              df        sum_sq       mean_sq            F        PR(>F)\n",
       "sex          1.0  6.435902e+08  6.435902e+08    17.532341  3.011108e-05\n",
       "children     5.0  2.394585e+09  4.789171e+08    13.046404  2.036612e-12\n",
       "smoker       1.0  1.195787e+11  1.195787e+11  3257.498499  0.000000e+00\n",
       "region       3.0  1.379901e+08  4.599671e+07     1.253018  2.891466e-01\n",
       "age          1.0  1.959062e+10  1.959062e+10   533.677305  1.703240e-99\n",
       "bmi          1.0  5.089679e+09  5.089679e+09   138.650315  1.641433e-30\n",
       "Residual  1325.0  4.863908e+10  3.670874e+07          NaN           NaN"
      ]
     },
     "execution_count": 18,
     "metadata": {},
     "output_type": "execute_result"
    }
   ],
   "source": [
    "sm.stats.anova_lm(reg1, typ=1)\n",
    "# insignificant for region and sex "
   ]
  },
  {
   "cell_type": "code",
   "execution_count": 20,
   "id": "2c589f48",
   "metadata": {},
   "outputs": [
    {
     "data": {
      "text/html": [
       "<div>\n",
       "<style scoped>\n",
       "    .dataframe tbody tr th:only-of-type {\n",
       "        vertical-align: middle;\n",
       "    }\n",
       "\n",
       "    .dataframe tbody tr th {\n",
       "        vertical-align: top;\n",
       "    }\n",
       "\n",
       "    .dataframe thead th {\n",
       "        text-align: right;\n",
       "    }\n",
       "</style>\n",
       "<table border=\"1\" class=\"dataframe\">\n",
       "  <thead>\n",
       "    <tr style=\"text-align: right;\">\n",
       "      <th></th>\n",
       "      <th>sum_sq</th>\n",
       "      <th>df</th>\n",
       "      <th>F</th>\n",
       "      <th>PR(&gt;F)</th>\n",
       "    </tr>\n",
       "  </thead>\n",
       "  <tbody>\n",
       "    <tr>\n",
       "      <th>sex</th>\n",
       "      <td>5.442885e+06</td>\n",
       "      <td>1.0</td>\n",
       "      <td>0.148272</td>\n",
       "      <td>7.002538e-01</td>\n",
       "    </tr>\n",
       "    <tr>\n",
       "      <th>children</th>\n",
       "      <td>6.379964e+08</td>\n",
       "      <td>5.0</td>\n",
       "      <td>3.475992</td>\n",
       "      <td>3.987342e-03</td>\n",
       "    </tr>\n",
       "    <tr>\n",
       "      <th>smoker</th>\n",
       "      <td>1.216074e+11</td>\n",
       "      <td>1.0</td>\n",
       "      <td>3312.764072</td>\n",
       "      <td>0.000000e+00</td>\n",
       "    </tr>\n",
       "    <tr>\n",
       "      <th>region</th>\n",
       "      <td>2.264060e+08</td>\n",
       "      <td>3.0</td>\n",
       "      <td>2.055878</td>\n",
       "      <td>1.042786e-01</td>\n",
       "    </tr>\n",
       "    <tr>\n",
       "      <th>age</th>\n",
       "      <td>1.710575e+10</td>\n",
       "      <td>1.0</td>\n",
       "      <td>465.985849</td>\n",
       "      <td>8.446004e-89</td>\n",
       "    </tr>\n",
       "    <tr>\n",
       "      <th>bmi</th>\n",
       "      <td>5.089679e+09</td>\n",
       "      <td>1.0</td>\n",
       "      <td>138.650315</td>\n",
       "      <td>1.641433e-30</td>\n",
       "    </tr>\n",
       "    <tr>\n",
       "      <th>Residual</th>\n",
       "      <td>4.863908e+10</td>\n",
       "      <td>1325.0</td>\n",
       "      <td>NaN</td>\n",
       "      <td>NaN</td>\n",
       "    </tr>\n",
       "  </tbody>\n",
       "</table>\n",
       "</div>"
      ],
      "text/plain": [
       "                sum_sq      df            F        PR(>F)\n",
       "sex       5.442885e+06     1.0     0.148272  7.002538e-01\n",
       "children  6.379964e+08     5.0     3.475992  3.987342e-03\n",
       "smoker    1.216074e+11     1.0  3312.764072  0.000000e+00\n",
       "region    2.264060e+08     3.0     2.055878  1.042786e-01\n",
       "age       1.710575e+10     1.0   465.985849  8.446004e-89\n",
       "bmi       5.089679e+09     1.0   138.650315  1.641433e-30\n",
       "Residual  4.863908e+10  1325.0          NaN           NaN"
      ]
     },
     "execution_count": 20,
     "metadata": {},
     "output_type": "execute_result"
    }
   ],
   "source": [
    "sm.stats.anova_lm(reg1, typ=2)\n",
    "# insignificant for region and sex "
   ]
  },
  {
   "cell_type": "markdown",
   "id": "5344f44e",
   "metadata": {},
   "source": [
    "# Model 2"
   ]
  },
  {
   "cell_type": "code",
   "execution_count": 176,
   "id": "86b74e03",
   "metadata": {},
   "outputs": [
    {
     "data": {
      "text/html": [
       "<table class=\"simpletable\">\n",
       "<caption>OLS Regression Results</caption>\n",
       "<tr>\n",
       "  <th>Dep. Variable:</th>         <td>charges</td>     <th>  R-squared:         </th> <td>   0.752</td> \n",
       "</tr>\n",
       "<tr>\n",
       "  <th>Model:</th>                   <td>OLS</td>       <th>  Adj. R-squared:    </th> <td>   0.750</td> \n",
       "</tr>\n",
       "<tr>\n",
       "  <th>Method:</th>             <td>Least Squares</td>  <th>  F-statistic:       </th> <td>   334.7</td> \n",
       "</tr>\n",
       "<tr>\n",
       "  <th>Date:</th>             <td>Tue, 12 Oct 2021</td> <th>  Prob (F-statistic):</th>  <td>  0.00</td>  \n",
       "</tr>\n",
       "<tr>\n",
       "  <th>Time:</th>                 <td>13:39:27</td>     <th>  Log-Likelihood:    </th> <td> -13545.</td> \n",
       "</tr>\n",
       "<tr>\n",
       "  <th>No. Observations:</th>      <td>  1338</td>      <th>  AIC:               </th> <td>2.712e+04</td>\n",
       "</tr>\n",
       "<tr>\n",
       "  <th>Df Residuals:</th>          <td>  1325</td>      <th>  BIC:               </th> <td>2.718e+04</td>\n",
       "</tr>\n",
       "<tr>\n",
       "  <th>Df Model:</th>              <td>    12</td>      <th>                     </th>     <td> </td>    \n",
       "</tr>\n",
       "<tr>\n",
       "  <th>Covariance Type:</th>      <td>nonrobust</td>    <th>                     </th>     <td> </td>    \n",
       "</tr>\n",
       "</table>\n",
       "<table class=\"simpletable\">\n",
       "<tr>\n",
       "           <td></td>              <th>coef</th>     <th>std err</th>      <th>t</th>      <th>P>|t|</th>  <th>[0.025</th>    <th>0.975]</th>  \n",
       "</tr>\n",
       "<tr>\n",
       "  <th>Intercept</th>           <td>-1.193e+04</td> <td>  993.657</td> <td>  -12.003</td> <td> 0.000</td> <td>-1.39e+04</td> <td>-9977.861</td>\n",
       "</tr>\n",
       "<tr>\n",
       "  <th>children[T.1]</th>       <td>  390.9782</td> <td>  421.350</td> <td>    0.928</td> <td> 0.354</td> <td> -435.608</td> <td> 1217.565</td>\n",
       "</tr>\n",
       "<tr>\n",
       "  <th>children[T.2]</th>       <td> 1635.7772</td> <td>  466.670</td> <td>    3.505</td> <td> 0.000</td> <td>  720.284</td> <td> 2551.270</td>\n",
       "</tr>\n",
       "<tr>\n",
       "  <th>children[T.3]</th>       <td>  964.3403</td> <td>  548.097</td> <td>    1.759</td> <td> 0.079</td> <td> -110.893</td> <td> 2039.574</td>\n",
       "</tr>\n",
       "<tr>\n",
       "  <th>children[T.4]</th>       <td> 2947.3680</td> <td> 1239.163</td> <td>    2.379</td> <td> 0.018</td> <td>  516.432</td> <td> 5378.304</td>\n",
       "</tr>\n",
       "<tr>\n",
       "  <th>children[T.5]</th>       <td> 1116.0395</td> <td> 1456.015</td> <td>    0.767</td> <td> 0.444</td> <td>-1740.307</td> <td> 3972.386</td>\n",
       "</tr>\n",
       "<tr>\n",
       "  <th>smoker[T.yes]</th>       <td> 2.384e+04</td> <td>  414.139</td> <td>   57.557</td> <td> 0.000</td> <td>  2.3e+04</td> <td> 2.46e+04</td>\n",
       "</tr>\n",
       "<tr>\n",
       "  <th>region[T.northwest]</th> <td> -380.0439</td> <td>  476.559</td> <td>   -0.797</td> <td> 0.425</td> <td>-1314.936</td> <td>  554.848</td>\n",
       "</tr>\n",
       "<tr>\n",
       "  <th>region[T.southeast]</th> <td>-1033.1375</td> <td>  479.139</td> <td>   -2.156</td> <td> 0.031</td> <td>-1973.091</td> <td>  -93.184</td>\n",
       "</tr>\n",
       "<tr>\n",
       "  <th>region[T.southwest]</th> <td> -952.8878</td> <td>  478.153</td> <td>   -1.993</td> <td> 0.046</td> <td>-1890.908</td> <td>  -14.867</td>\n",
       "</tr>\n",
       "<tr>\n",
       "  <th>sex[T.male]</th>         <td> -128.1616</td> <td>  332.834</td> <td>   -0.385</td> <td> 0.700</td> <td> -781.101</td> <td>  524.778</td>\n",
       "</tr>\n",
       "<tr>\n",
       "  <th>age</th>                 <td>  257.1933</td> <td>   11.914</td> <td>   21.587</td> <td> 0.000</td> <td>  233.820</td> <td>  280.567</td>\n",
       "</tr>\n",
       "<tr>\n",
       "  <th>bmi</th>                 <td>  336.9088</td> <td>   28.612</td> <td>   11.775</td> <td> 0.000</td> <td>  280.779</td> <td>  393.039</td>\n",
       "</tr>\n",
       "</table>\n",
       "<table class=\"simpletable\">\n",
       "<tr>\n",
       "  <th>Omnibus:</th>       <td>293.990</td> <th>  Durbin-Watson:     </th> <td>   2.084</td> \n",
       "</tr>\n",
       "<tr>\n",
       "  <th>Prob(Omnibus):</th> <td> 0.000</td>  <th>  Jarque-Bera (JB):  </th> <td> 695.789</td> \n",
       "</tr>\n",
       "<tr>\n",
       "  <th>Skew:</th>          <td> 1.191</td>  <th>  Prob(JB):          </th> <td>8.15e-152</td>\n",
       "</tr>\n",
       "<tr>\n",
       "  <th>Kurtosis:</th>      <td> 5.609</td>  <th>  Cond. No.          </th> <td>    453.</td> \n",
       "</tr>\n",
       "</table><br/><br/>Notes:<br/>[1] Standard Errors assume that the covariance matrix of the errors is correctly specified."
      ],
      "text/plain": [
       "<class 'statsmodels.iolib.summary.Summary'>\n",
       "\"\"\"\n",
       "                            OLS Regression Results                            \n",
       "==============================================================================\n",
       "Dep. Variable:                charges   R-squared:                       0.752\n",
       "Model:                            OLS   Adj. R-squared:                  0.750\n",
       "Method:                 Least Squares   F-statistic:                     334.7\n",
       "Date:                Tue, 12 Oct 2021   Prob (F-statistic):               0.00\n",
       "Time:                        13:39:27   Log-Likelihood:                -13545.\n",
       "No. Observations:                1338   AIC:                         2.712e+04\n",
       "Df Residuals:                    1325   BIC:                         2.718e+04\n",
       "Df Model:                          12                                         \n",
       "Covariance Type:            nonrobust                                         \n",
       "=======================================================================================\n",
       "                          coef    std err          t      P>|t|      [0.025      0.975]\n",
       "---------------------------------------------------------------------------------------\n",
       "Intercept           -1.193e+04    993.657    -12.003      0.000   -1.39e+04   -9977.861\n",
       "children[T.1]         390.9782    421.350      0.928      0.354    -435.608    1217.565\n",
       "children[T.2]        1635.7772    466.670      3.505      0.000     720.284    2551.270\n",
       "children[T.3]         964.3403    548.097      1.759      0.079    -110.893    2039.574\n",
       "children[T.4]        2947.3680   1239.163      2.379      0.018     516.432    5378.304\n",
       "children[T.5]        1116.0395   1456.015      0.767      0.444   -1740.307    3972.386\n",
       "smoker[T.yes]        2.384e+04    414.139     57.557      0.000     2.3e+04    2.46e+04\n",
       "region[T.northwest]  -380.0439    476.559     -0.797      0.425   -1314.936     554.848\n",
       "region[T.southeast] -1033.1375    479.139     -2.156      0.031   -1973.091     -93.184\n",
       "region[T.southwest]  -952.8878    478.153     -1.993      0.046   -1890.908     -14.867\n",
       "sex[T.male]          -128.1616    332.834     -0.385      0.700    -781.101     524.778\n",
       "age                   257.1933     11.914     21.587      0.000     233.820     280.567\n",
       "bmi                   336.9088     28.612     11.775      0.000     280.779     393.039\n",
       "==============================================================================\n",
       "Omnibus:                      293.990   Durbin-Watson:                   2.084\n",
       "Prob(Omnibus):                  0.000   Jarque-Bera (JB):              695.789\n",
       "Skew:                           1.191   Prob(JB):                    8.15e-152\n",
       "Kurtosis:                       5.609   Cond. No.                         453.\n",
       "==============================================================================\n",
       "\n",
       "Notes:\n",
       "[1] Standard Errors assume that the covariance matrix of the errors is correctly specified.\n",
       "\"\"\""
      ]
     },
     "execution_count": 176,
     "metadata": {},
     "output_type": "execute_result"
    }
   ],
   "source": [
    "reg2 = smf.ols('charges~age+bmi+children+smoker+region+sex',data=data).fit()\n",
    "reg2.summary()"
   ]
  },
  {
   "cell_type": "code",
   "execution_count": 177,
   "id": "6b90cfc7",
   "metadata": {},
   "outputs": [
    {
     "data": {
      "text/html": [
       "<div>\n",
       "<style scoped>\n",
       "    .dataframe tbody tr th:only-of-type {\n",
       "        vertical-align: middle;\n",
       "    }\n",
       "\n",
       "    .dataframe tbody tr th {\n",
       "        vertical-align: top;\n",
       "    }\n",
       "\n",
       "    .dataframe thead th {\n",
       "        text-align: right;\n",
       "    }\n",
       "</style>\n",
       "<table border=\"1\" class=\"dataframe\">\n",
       "  <thead>\n",
       "    <tr style=\"text-align: right;\">\n",
       "      <th></th>\n",
       "      <th>df</th>\n",
       "      <th>sum_sq</th>\n",
       "      <th>mean_sq</th>\n",
       "      <th>F</th>\n",
       "      <th>PR(&gt;F)</th>\n",
       "    </tr>\n",
       "  </thead>\n",
       "  <tbody>\n",
       "    <tr>\n",
       "      <th>children</th>\n",
       "      <td>5.0</td>\n",
       "      <td>2.396917e+09</td>\n",
       "      <td>4.793833e+08</td>\n",
       "      <td>13.059106</td>\n",
       "      <td>1.978563e-12</td>\n",
       "    </tr>\n",
       "    <tr>\n",
       "      <th>smoker</th>\n",
       "      <td>1.0</td>\n",
       "      <td>1.202177e+11</td>\n",
       "      <td>1.202177e+11</td>\n",
       "      <td>3274.907177</td>\n",
       "      <td>0.000000e+00</td>\n",
       "    </tr>\n",
       "    <tr>\n",
       "      <th>region</th>\n",
       "      <td>3.0</td>\n",
       "      <td>1.375861e+08</td>\n",
       "      <td>4.586202e+07</td>\n",
       "      <td>1.249349</td>\n",
       "      <td>2.904476e-01</td>\n",
       "    </tr>\n",
       "    <tr>\n",
       "      <th>sex</th>\n",
       "      <td>1.0</td>\n",
       "      <td>2.612225e+06</td>\n",
       "      <td>2.612225e+06</td>\n",
       "      <td>0.071161</td>\n",
       "      <td>7.896956e-01</td>\n",
       "    </tr>\n",
       "    <tr>\n",
       "      <th>age</th>\n",
       "      <td>1.0</td>\n",
       "      <td>1.959062e+10</td>\n",
       "      <td>1.959062e+10</td>\n",
       "      <td>533.677305</td>\n",
       "      <td>1.703240e-99</td>\n",
       "    </tr>\n",
       "    <tr>\n",
       "      <th>bmi</th>\n",
       "      <td>1.0</td>\n",
       "      <td>5.089679e+09</td>\n",
       "      <td>5.089679e+09</td>\n",
       "      <td>138.650315</td>\n",
       "      <td>1.641433e-30</td>\n",
       "    </tr>\n",
       "    <tr>\n",
       "      <th>Residual</th>\n",
       "      <td>1325.0</td>\n",
       "      <td>4.863908e+10</td>\n",
       "      <td>3.670874e+07</td>\n",
       "      <td>NaN</td>\n",
       "      <td>NaN</td>\n",
       "    </tr>\n",
       "  </tbody>\n",
       "</table>\n",
       "</div>"
      ],
      "text/plain": [
       "              df        sum_sq       mean_sq            F        PR(>F)\n",
       "children     5.0  2.396917e+09  4.793833e+08    13.059106  1.978563e-12\n",
       "smoker       1.0  1.202177e+11  1.202177e+11  3274.907177  0.000000e+00\n",
       "region       3.0  1.375861e+08  4.586202e+07     1.249349  2.904476e-01\n",
       "sex          1.0  2.612225e+06  2.612225e+06     0.071161  7.896956e-01\n",
       "age          1.0  1.959062e+10  1.959062e+10   533.677305  1.703240e-99\n",
       "bmi          1.0  5.089679e+09  5.089679e+09   138.650315  1.641433e-30\n",
       "Residual  1325.0  4.863908e+10  3.670874e+07          NaN           NaN"
      ]
     },
     "execution_count": 177,
     "metadata": {},
     "output_type": "execute_result"
    }
   ],
   "source": [
    "sm.stats.anova_lm(reg2, typ=1)\n",
    "# insignificant for region and sex "
   ]
  },
  {
   "cell_type": "code",
   "execution_count": 178,
   "id": "fdf00f3c",
   "metadata": {},
   "outputs": [
    {
     "data": {
      "text/html": [
       "<div>\n",
       "<style scoped>\n",
       "    .dataframe tbody tr th:only-of-type {\n",
       "        vertical-align: middle;\n",
       "    }\n",
       "\n",
       "    .dataframe tbody tr th {\n",
       "        vertical-align: top;\n",
       "    }\n",
       "\n",
       "    .dataframe thead th {\n",
       "        text-align: right;\n",
       "    }\n",
       "</style>\n",
       "<table border=\"1\" class=\"dataframe\">\n",
       "  <thead>\n",
       "    <tr style=\"text-align: right;\">\n",
       "      <th></th>\n",
       "      <th>sum_sq</th>\n",
       "      <th>df</th>\n",
       "      <th>F</th>\n",
       "      <th>PR(&gt;F)</th>\n",
       "    </tr>\n",
       "  </thead>\n",
       "  <tbody>\n",
       "    <tr>\n",
       "      <th>children</th>\n",
       "      <td>6.379964e+08</td>\n",
       "      <td>5.0</td>\n",
       "      <td>3.475992</td>\n",
       "      <td>3.987342e-03</td>\n",
       "    </tr>\n",
       "    <tr>\n",
       "      <th>smoker</th>\n",
       "      <td>1.216074e+11</td>\n",
       "      <td>1.0</td>\n",
       "      <td>3312.764072</td>\n",
       "      <td>0.000000e+00</td>\n",
       "    </tr>\n",
       "    <tr>\n",
       "      <th>region</th>\n",
       "      <td>2.264060e+08</td>\n",
       "      <td>3.0</td>\n",
       "      <td>2.055878</td>\n",
       "      <td>1.042786e-01</td>\n",
       "    </tr>\n",
       "    <tr>\n",
       "      <th>sex</th>\n",
       "      <td>5.442885e+06</td>\n",
       "      <td>1.0</td>\n",
       "      <td>0.148272</td>\n",
       "      <td>7.002538e-01</td>\n",
       "    </tr>\n",
       "    <tr>\n",
       "      <th>age</th>\n",
       "      <td>1.710575e+10</td>\n",
       "      <td>1.0</td>\n",
       "      <td>465.985849</td>\n",
       "      <td>8.446004e-89</td>\n",
       "    </tr>\n",
       "    <tr>\n",
       "      <th>bmi</th>\n",
       "      <td>5.089679e+09</td>\n",
       "      <td>1.0</td>\n",
       "      <td>138.650315</td>\n",
       "      <td>1.641433e-30</td>\n",
       "    </tr>\n",
       "    <tr>\n",
       "      <th>Residual</th>\n",
       "      <td>4.863908e+10</td>\n",
       "      <td>1325.0</td>\n",
       "      <td>NaN</td>\n",
       "      <td>NaN</td>\n",
       "    </tr>\n",
       "  </tbody>\n",
       "</table>\n",
       "</div>"
      ],
      "text/plain": [
       "                sum_sq      df            F        PR(>F)\n",
       "children  6.379964e+08     5.0     3.475992  3.987342e-03\n",
       "smoker    1.216074e+11     1.0  3312.764072  0.000000e+00\n",
       "region    2.264060e+08     3.0     2.055878  1.042786e-01\n",
       "sex       5.442885e+06     1.0     0.148272  7.002538e-01\n",
       "age       1.710575e+10     1.0   465.985849  8.446004e-89\n",
       "bmi       5.089679e+09     1.0   138.650315  1.641433e-30\n",
       "Residual  4.863908e+10  1325.0          NaN           NaN"
      ]
     },
     "execution_count": 178,
     "metadata": {},
     "output_type": "execute_result"
    }
   ],
   "source": [
    "sm.stats.anova_lm(reg2, typ=2)\n",
    "# insignificant for region and sex "
   ]
  },
  {
   "cell_type": "markdown",
   "id": "300d13cc",
   "metadata": {},
   "source": [
    "# Model 3"
   ]
  },
  {
   "cell_type": "code",
   "execution_count": 24,
   "id": "9107b437",
   "metadata": {},
   "outputs": [
    {
     "data": {
      "text/html": [
       "<table class=\"simpletable\">\n",
       "<caption>OLS Regression Results</caption>\n",
       "<tr>\n",
       "  <th>Dep. Variable:</th>         <td>charges</td>     <th>  R-squared:         </th> <td>   0.751</td> \n",
       "</tr>\n",
       "<tr>\n",
       "  <th>Model:</th>                   <td>OLS</td>       <th>  Adj. R-squared:    </th> <td>   0.749</td> \n",
       "</tr>\n",
       "<tr>\n",
       "  <th>Method:</th>             <td>Least Squares</td>  <th>  F-statistic:       </th> <td>   500.4</td> \n",
       "</tr>\n",
       "<tr>\n",
       "  <th>Date:</th>             <td>Fri, 15 Oct 2021</td> <th>  Prob (F-statistic):</th>  <td>  0.00</td>  \n",
       "</tr>\n",
       "<tr>\n",
       "  <th>Time:</th>                 <td>13:15:31</td>     <th>  Log-Likelihood:    </th> <td> -13548.</td> \n",
       "</tr>\n",
       "<tr>\n",
       "  <th>No. Observations:</th>      <td>  1338</td>      <th>  AIC:               </th> <td>2.711e+04</td>\n",
       "</tr>\n",
       "<tr>\n",
       "  <th>Df Residuals:</th>          <td>  1329</td>      <th>  BIC:               </th> <td>2.716e+04</td>\n",
       "</tr>\n",
       "<tr>\n",
       "  <th>Df Model:</th>              <td>     8</td>      <th>                     </th>     <td> </td>    \n",
       "</tr>\n",
       "<tr>\n",
       "  <th>Covariance Type:</th>      <td>nonrobust</td>    <th>                     </th>     <td> </td>    \n",
       "</tr>\n",
       "</table>\n",
       "<table class=\"simpletable\">\n",
       "<tr>\n",
       "        <td></td>           <th>coef</th>     <th>std err</th>      <th>t</th>      <th>P>|t|</th>  <th>[0.025</th>    <th>0.975]</th>  \n",
       "</tr>\n",
       "<tr>\n",
       "  <th>Intercept</th>     <td>-1.209e+04</td> <td>  947.781</td> <td>  -12.760</td> <td> 0.000</td> <td> -1.4e+04</td> <td>-1.02e+04</td>\n",
       "</tr>\n",
       "<tr>\n",
       "  <th>children[T.1]</th> <td>  368.7710</td> <td>  421.573</td> <td>    0.875</td> <td> 0.382</td> <td> -458.250</td> <td> 1195.792</td>\n",
       "</tr>\n",
       "<tr>\n",
       "  <th>children[T.2]</th> <td> 1626.5095</td> <td>  466.561</td> <td>    3.486</td> <td> 0.001</td> <td>  711.233</td> <td> 2541.786</td>\n",
       "</tr>\n",
       "<tr>\n",
       "  <th>children[T.3]</th> <td>  996.9511</td> <td>  547.801</td> <td>    1.820</td> <td> 0.069</td> <td>  -77.697</td> <td> 2071.599</td>\n",
       "</tr>\n",
       "<tr>\n",
       "  <th>children[T.4]</th> <td> 2984.3586</td> <td> 1239.595</td> <td>    2.408</td> <td> 0.016</td> <td>  552.582</td> <td> 5416.135</td>\n",
       "</tr>\n",
       "<tr>\n",
       "  <th>children[T.5]</th> <td>  899.1294</td> <td> 1453.361</td> <td>    0.619</td> <td> 0.536</td> <td>-1952.003</td> <td> 3750.262</td>\n",
       "</tr>\n",
       "<tr>\n",
       "  <th>smoker[T.yes]</th> <td>  2.38e+04</td> <td>  412.053</td> <td>   57.752</td> <td> 0.000</td> <td>  2.3e+04</td> <td> 2.46e+04</td>\n",
       "</tr>\n",
       "<tr>\n",
       "  <th>age</th>           <td>  258.0760</td> <td>   11.912</td> <td>   21.665</td> <td> 0.000</td> <td>  234.707</td> <td>  281.445</td>\n",
       "</tr>\n",
       "<tr>\n",
       "  <th>bmi</th>           <td>  319.8047</td> <td>   27.375</td> <td>   11.682</td> <td> 0.000</td> <td>  266.101</td> <td>  373.508</td>\n",
       "</tr>\n",
       "</table>\n",
       "<table class=\"simpletable\">\n",
       "<tr>\n",
       "  <th>Omnibus:</th>       <td>294.840</td> <th>  Durbin-Watson:     </th> <td>   2.084</td> \n",
       "</tr>\n",
       "<tr>\n",
       "  <th>Prob(Omnibus):</th> <td> 0.000</td>  <th>  Jarque-Bera (JB):  </th> <td> 697.185</td> \n",
       "</tr>\n",
       "<tr>\n",
       "  <th>Skew:</th>          <td> 1.195</td>  <th>  Prob(JB):          </th> <td>4.06e-152</td>\n",
       "</tr>\n",
       "<tr>\n",
       "  <th>Kurtosis:</th>      <td> 5.607</td>  <th>  Cond. No.          </th> <td>    452.</td> \n",
       "</tr>\n",
       "</table><br/><br/>Notes:<br/>[1] Standard Errors assume that the covariance matrix of the errors is correctly specified."
      ],
      "text/plain": [
       "<class 'statsmodels.iolib.summary.Summary'>\n",
       "\"\"\"\n",
       "                            OLS Regression Results                            \n",
       "==============================================================================\n",
       "Dep. Variable:                charges   R-squared:                       0.751\n",
       "Model:                            OLS   Adj. R-squared:                  0.749\n",
       "Method:                 Least Squares   F-statistic:                     500.4\n",
       "Date:                Fri, 15 Oct 2021   Prob (F-statistic):               0.00\n",
       "Time:                        13:15:31   Log-Likelihood:                -13548.\n",
       "No. Observations:                1338   AIC:                         2.711e+04\n",
       "Df Residuals:                    1329   BIC:                         2.716e+04\n",
       "Df Model:                           8                                         \n",
       "Covariance Type:            nonrobust                                         \n",
       "=================================================================================\n",
       "                    coef    std err          t      P>|t|      [0.025      0.975]\n",
       "---------------------------------------------------------------------------------\n",
       "Intercept     -1.209e+04    947.781    -12.760      0.000    -1.4e+04   -1.02e+04\n",
       "children[T.1]   368.7710    421.573      0.875      0.382    -458.250    1195.792\n",
       "children[T.2]  1626.5095    466.561      3.486      0.001     711.233    2541.786\n",
       "children[T.3]   996.9511    547.801      1.820      0.069     -77.697    2071.599\n",
       "children[T.4]  2984.3586   1239.595      2.408      0.016     552.582    5416.135\n",
       "children[T.5]   899.1294   1453.361      0.619      0.536   -1952.003    3750.262\n",
       "smoker[T.yes]   2.38e+04    412.053     57.752      0.000     2.3e+04    2.46e+04\n",
       "age             258.0760     11.912     21.665      0.000     234.707     281.445\n",
       "bmi             319.8047     27.375     11.682      0.000     266.101     373.508\n",
       "==============================================================================\n",
       "Omnibus:                      294.840   Durbin-Watson:                   2.084\n",
       "Prob(Omnibus):                  0.000   Jarque-Bera (JB):              697.185\n",
       "Skew:                           1.195   Prob(JB):                    4.06e-152\n",
       "Kurtosis:                       5.607   Cond. No.                         452.\n",
       "==============================================================================\n",
       "\n",
       "Notes:\n",
       "[1] Standard Errors assume that the covariance matrix of the errors is correctly specified.\n",
       "\"\"\""
      ]
     },
     "execution_count": 24,
     "metadata": {},
     "output_type": "execute_result"
    }
   ],
   "source": [
    "reg = smf.ols('charges~age+bmi+children+smoker',data=data).fit()\n",
    "reg.summary()"
   ]
  },
  {
   "cell_type": "code",
   "execution_count": 25,
   "id": "c236648f",
   "metadata": {},
   "outputs": [
    {
     "data": {
      "text/html": [
       "<div>\n",
       "<style scoped>\n",
       "    .dataframe tbody tr th:only-of-type {\n",
       "        vertical-align: middle;\n",
       "    }\n",
       "\n",
       "    .dataframe tbody tr th {\n",
       "        vertical-align: top;\n",
       "    }\n",
       "\n",
       "    .dataframe thead th {\n",
       "        text-align: right;\n",
       "    }\n",
       "</style>\n",
       "<table border=\"1\" class=\"dataframe\">\n",
       "  <thead>\n",
       "    <tr style=\"text-align: right;\">\n",
       "      <th></th>\n",
       "      <th>df</th>\n",
       "      <th>sum_sq</th>\n",
       "      <th>mean_sq</th>\n",
       "      <th>F</th>\n",
       "      <th>PR(&gt;F)</th>\n",
       "    </tr>\n",
       "  </thead>\n",
       "  <tbody>\n",
       "    <tr>\n",
       "      <th>children</th>\n",
       "      <td>5.0</td>\n",
       "      <td>2.396917e+09</td>\n",
       "      <td>4.793833e+08</td>\n",
       "      <td>13.036463</td>\n",
       "      <td>2.078944e-12</td>\n",
       "    </tr>\n",
       "    <tr>\n",
       "      <th>smoker</th>\n",
       "      <td>1.0</td>\n",
       "      <td>1.202177e+11</td>\n",
       "      <td>1.202177e+11</td>\n",
       "      <td>3269.228826</td>\n",
       "      <td>0.000000e+00</td>\n",
       "    </tr>\n",
       "    <tr>\n",
       "      <th>age</th>\n",
       "      <td>1.0</td>\n",
       "      <td>1.957035e+10</td>\n",
       "      <td>1.957035e+10</td>\n",
       "      <td>532.200720</td>\n",
       "      <td>2.605580e-99</td>\n",
       "    </tr>\n",
       "    <tr>\n",
       "      <th>bmi</th>\n",
       "      <td>1.0</td>\n",
       "      <td>5.018576e+09</td>\n",
       "      <td>5.018576e+09</td>\n",
       "      <td>136.476326</td>\n",
       "      <td>4.383973e-30</td>\n",
       "    </tr>\n",
       "    <tr>\n",
       "      <th>Residual</th>\n",
       "      <td>1329.0</td>\n",
       "      <td>4.887065e+10</td>\n",
       "      <td>3.677250e+07</td>\n",
       "      <td>NaN</td>\n",
       "      <td>NaN</td>\n",
       "    </tr>\n",
       "  </tbody>\n",
       "</table>\n",
       "</div>"
      ],
      "text/plain": [
       "              df        sum_sq       mean_sq            F        PR(>F)\n",
       "children     5.0  2.396917e+09  4.793833e+08    13.036463  2.078944e-12\n",
       "smoker       1.0  1.202177e+11  1.202177e+11  3269.228826  0.000000e+00\n",
       "age          1.0  1.957035e+10  1.957035e+10   532.200720  2.605580e-99\n",
       "bmi          1.0  5.018576e+09  5.018576e+09   136.476326  4.383973e-30\n",
       "Residual  1329.0  4.887065e+10  3.677250e+07          NaN           NaN"
      ]
     },
     "execution_count": 25,
     "metadata": {},
     "output_type": "execute_result"
    }
   ],
   "source": [
    "sm.stats.anova_lm(reg, typ=1)"
   ]
  },
  {
   "cell_type": "code",
   "execution_count": 26,
   "id": "6371a026",
   "metadata": {},
   "outputs": [
    {
     "data": {
      "text/html": [
       "<div>\n",
       "<style scoped>\n",
       "    .dataframe tbody tr th:only-of-type {\n",
       "        vertical-align: middle;\n",
       "    }\n",
       "\n",
       "    .dataframe tbody tr th {\n",
       "        vertical-align: top;\n",
       "    }\n",
       "\n",
       "    .dataframe thead th {\n",
       "        text-align: right;\n",
       "    }\n",
       "</style>\n",
       "<table border=\"1\" class=\"dataframe\">\n",
       "  <thead>\n",
       "    <tr style=\"text-align: right;\">\n",
       "      <th></th>\n",
       "      <th>sum_sq</th>\n",
       "      <th>df</th>\n",
       "      <th>F</th>\n",
       "      <th>PR(&gt;F)</th>\n",
       "    </tr>\n",
       "  </thead>\n",
       "  <tbody>\n",
       "    <tr>\n",
       "      <th>children</th>\n",
       "      <td>6.425648e+08</td>\n",
       "      <td>5.0</td>\n",
       "      <td>3.494812</td>\n",
       "      <td>3.833167e-03</td>\n",
       "    </tr>\n",
       "    <tr>\n",
       "      <th>smoker</th>\n",
       "      <td>1.226453e+11</td>\n",
       "      <td>1.0</td>\n",
       "      <td>3335.245907</td>\n",
       "      <td>0.000000e+00</td>\n",
       "    </tr>\n",
       "    <tr>\n",
       "      <th>age</th>\n",
       "      <td>1.725954e+10</td>\n",
       "      <td>1.0</td>\n",
       "      <td>469.360028</td>\n",
       "      <td>2.226815e-89</td>\n",
       "    </tr>\n",
       "    <tr>\n",
       "      <th>bmi</th>\n",
       "      <td>5.018576e+09</td>\n",
       "      <td>1.0</td>\n",
       "      <td>136.476326</td>\n",
       "      <td>4.383973e-30</td>\n",
       "    </tr>\n",
       "    <tr>\n",
       "      <th>Residual</th>\n",
       "      <td>4.887065e+10</td>\n",
       "      <td>1329.0</td>\n",
       "      <td>NaN</td>\n",
       "      <td>NaN</td>\n",
       "    </tr>\n",
       "  </tbody>\n",
       "</table>\n",
       "</div>"
      ],
      "text/plain": [
       "                sum_sq      df            F        PR(>F)\n",
       "children  6.425648e+08     5.0     3.494812  3.833167e-03\n",
       "smoker    1.226453e+11     1.0  3335.245907  0.000000e+00\n",
       "age       1.725954e+10     1.0   469.360028  2.226815e-89\n",
       "bmi       5.018576e+09     1.0   136.476326  4.383973e-30\n",
       "Residual  4.887065e+10  1329.0          NaN           NaN"
      ]
     },
     "execution_count": 26,
     "metadata": {},
     "output_type": "execute_result"
    }
   ],
   "source": [
    "sm.stats.anova_lm(reg, typ=2)"
   ]
  },
  {
   "cell_type": "markdown",
   "id": "ebbc6be5",
   "metadata": {},
   "source": [
    "**Variance Inflation Factor**"
   ]
  },
  {
   "cell_type": "code",
   "execution_count": 27,
   "id": "0bb6654c",
   "metadata": {},
   "outputs": [
    {
     "name": "stdout",
     "output_type": "stream",
     "text": [
      "   VIF Factor       features\n",
      "0   32.685011      Intercept\n",
      "1    1.186722  children[T.1]\n",
      "2    1.165873  children[T.2]\n",
      "3    1.130876  children[T.3]\n",
      "4    1.025145  children[T.4]\n",
      "5    1.020033  children[T.5]\n",
      "6    1.006048  smoker[T.yes]\n",
      "7    1.018469            age\n",
      "8    1.013263            bmi\n"
     ]
    }
   ],
   "source": [
    "y, X = dmatrices('charges~age+bmi+children+smoker', data=data, return_type='dataframe')\n",
    "vif = pd.DataFrame()\n",
    "vif[\"VIF Factor\"] = [variance_inflation_factor(X.values, i) for i in range(X.shape[1])]\n",
    "vif[\"features\"] = X.columns\n",
    "print(vif)"
   ]
  },
  {
   "cell_type": "code",
   "execution_count": 28,
   "id": "7f12b9f9",
   "metadata": {},
   "outputs": [
    {
     "data": {
      "text/plain": [
       "1338"
      ]
     },
     "execution_count": 28,
     "metadata": {},
     "output_type": "execute_result"
    }
   ],
   "source": [
    "len(data)"
   ]
  },
  {
   "cell_type": "code",
   "execution_count": 29,
   "id": "7f9fb71a",
   "metadata": {},
   "outputs": [
    {
     "data": {
      "image/png": "[encoded data removed]",
      "text/plain": [
       "<Figure size 864x864 with 1 Axes>"
      ]
     },
     "metadata": {
      "needs_background": "light"
     },
     "output_type": "display_data"
    }
   ],
   "source": [
    "fig, ax = plt.subplots(figsize=(12,12))\n",
    "fig=sm.graphics.influence_plot(reg,ax=ax, criterion=\"cooks\") "
   ]
  },
  {
   "cell_type": "markdown",
   "id": "22e54062",
   "metadata": {},
   "source": [
    "**Checking influential points using cook's distance**"
   ]
  },
  {
   "cell_type": "code",
   "execution_count": 184,
   "id": "95807039",
   "metadata": {},
   "outputs": [
    {
     "name": "stdout",
     "output_type": "stream",
     "text": [
      "80\n",
      "('No.', 'Cook’s distances')\n",
      "(4, 0.00327628031718459)\n",
      "(10, 0.003936281891469084)\n",
      "(35, 0.009251022573990934)\n",
      "(63, 0.006104850376874999)\n",
      "(70, 0.0031551658645515446)\n",
      "(84, 0.004096662743755095)\n",
      "(86, 0.003258839400066748)\n",
      "(100, 0.003146850686297132)\n",
      "(103, 0.003976723621708494)\n",
      "(116, 0.003677284158428176)\n",
      "(139, 0.0045199100224032245)\n",
      "(141, 0.008693911187810335)\n",
      "(220, 0.006155673124991775)\n",
      "(236, 0.0033491570052920634)\n",
      "(243, 0.008106494161734153)\n",
      "(251, 0.004177405755587911)\n",
      "(267, 0.003510235087190819)\n",
      "(290, 0.005341243887631517)\n",
      "(307, 0.003330888241093329)\n",
      "(322, 0.04140922159812797)\n",
      "(345, 0.004726057134452431)\n",
      "(381, 0.003987898889007304)\n",
      "(388, 0.006631031528859256)\n",
      "(413, 0.004204784724623786)\n",
      "(418, 0.0032346699241432675)\n",
      "(430, 0.00401245814890737)\n",
      "(431, 0.004302178005337164)\n",
      "(439, 0.004478565086611531)\n",
      "(469, 0.005419138441123764)\n",
      "(489, 0.00336128568518892)\n",
      "(495, 0.016147639240159464)\n",
      "(517, 0.008665415289082119)\n",
      "(527, 0.007279470213633651)\n",
      "(544, 0.017870611838478625)\n",
      "(574, 0.004219015772013183)\n",
      "(578, 0.01612276466291751)\n",
      "(588, 0.003429298386117737)\n",
      "(600, 0.005990327815078145)\n",
      "(622, 0.003670798564251897)\n",
      "(638, 0.003429320372471531)\n",
      "(641, 0.0035782307928639164)\n",
      "(689, 0.0044224091176669)\n",
      "(697, 0.0038078406312326797)\n",
      "(731, 0.0031440139214017455)\n",
      "(740, 0.0036743519276125542)\n",
      "(755, 0.011657750009353698)\n",
      "(771, 0.0035956437866889453)\n",
      "(781, 0.0031084022237705855)\n",
      "(807, 0.004752286628902257)\n",
      "(820, 0.009010056185102328)\n",
      "(877, 0.0032565697961502854)\n",
      "(897, 0.003573848854337335)\n",
      "(937, 0.006499632482028735)\n",
      "(960, 0.0032839081527636935)\n",
      "(981, 0.0033171559347732645)\n",
      "(988, 0.00417948156215)\n",
      "(995, 0.0033903952409610923)\n",
      "(1001, 0.0031492889706783143)\n",
      "(1009, 0.0065820258382412325)\n",
      "(1012, 0.004273626620945311)\n",
      "(1013, 0.05131906787983636)\n",
      "(1020, 0.007635019523905893)\n",
      "(1028, 0.007766442437926294)\n",
      "(1040, 0.007082357441608761)\n",
      "(1048, 0.005469958193711957)\n",
      "(1086, 0.01936394692857406)\n",
      "(1101, 0.0037703974211307878)\n",
      "(1143, 0.003311578156073731)\n",
      "(1147, 0.004512502752957401)\n",
      "(1196, 0.006930474484192588)\n",
      "(1207, 0.008117455254268017)\n",
      "(1231, 0.015581143999716015)\n",
      "(1254, 0.003622872711686214)\n",
      "(1259, 0.0055649502812653)\n",
      "(1273, 0.007838409390560033)\n",
      "(1301, 0.013085014487466257)\n",
      "(1308, 0.015896818058957155)\n",
      "(1318, 0.0032505508823087214)\n",
      "(1319, 0.0064671440908903284)\n",
      "(1329, 0.00696895152678366)\n"
     ]
    }
   ],
   "source": [
    "infl = reg.get_influence()\n",
    "n = len(data)\n",
    "inflsum=infl.summary_frame()\n",
    "reg_cook=inflsum.cooks_d\n",
    "\n",
    "atyp_cook = np.abs(reg_cook) >= 4/n\n",
    "\n",
    "print(sum(atyp_cook))\n",
    "print(('No.', 'Cook’s distances'))\n",
    "for i in data[atyp_cook].index:\n",
    "    print((i+1, reg_cook[i]))"
   ]
  },
  {
   "cell_type": "markdown",
   "id": "b6496477",
   "metadata": {},
   "source": [
    "# Check Assumption"
   ]
  },
  {
   "cell_type": "code",
   "execution_count": 185,
   "id": "694234cd",
   "metadata": {},
   "outputs": [
    {
     "data": {
      "text/plain": [
       "Text(0.5, 1.0, 'Fitted Values vs. Residuals')"
      ]
     },
     "execution_count": 185,
     "metadata": {},
     "output_type": "execute_result"
    },
    {
     "data": {
      "image/png": "[encoded data removed]",
      "text/plain": [
       "<Figure size 432x288 with 1 Axes>"
      ]
     },
     "metadata": {
      "needs_background": "light"
     },
     "output_type": "display_data"
    }
   ],
   "source": [
    "p2 = reg.fittedvalues\n",
    "res = reg.resid\n",
    "plt.scatter(p2,res)\n",
    "plt.xlabel(\"Fitted Values\")\n",
    "plt.ylabel(\"Residual\")\n",
    "plt.title(\"Fitted Values vs. Residuals\")"
   ]
  },
  {
   "cell_type": "code",
   "execution_count": 186,
   "id": "6eb88d5f",
   "metadata": {},
   "outputs": [
    {
     "name": "stdout",
     "output_type": "stream",
     "text": [
      "{'LM Statistic': 128.35285338735062, 'LM-Test p-value': 6.208149148667009e-24}\n"
     ]
    }
   ],
   "source": [
    "bp_test = het_breuschpagan(reg.resid, reg.model.exog)\n",
    "labels = ['LM Statistic', 'LM-Test p-value']\n",
    "print(dict(zip(labels, bp_test)))\n",
    "# Heteroskedasticity exists"
   ]
  },
  {
   "cell_type": "markdown",
   "id": "c4241dbc",
   "metadata": {},
   "source": [
    "**Normality: JB shows the normality is violated**"
   ]
  },
  {
   "cell_type": "code",
   "execution_count": 188,
   "id": "a780f18e",
   "metadata": {},
   "outputs": [
    {
     "name": "stderr",
     "output_type": "stream",
     "text": [
      "/Users/shubhamthakur/opt/anaconda3/lib/python3.8/site-packages/statsmodels/graphics/gofplots.py:993: UserWarning: marker is redundantly defined by the 'marker' keyword argument and the fmt string \"bo\" (-> marker='o'). The keyword argument will take precedence.\n",
      "  ax.plot(x, y, fmt, **plot_style)\n"
     ]
    },
    {
     "data": {
      "image/png": "[encoded data removed]",
      "text/plain": [
       "<Figure size 432x288 with 1 Axes>"
      ]
     },
     "execution_count": 188,
     "metadata": {},
     "output_type": "execute_result"
    },
    {
     "data": {
      "image/png": "[encoded data removed]",
      "text/plain": [
       "<Figure size 432x288 with 1 Axes>"
      ]
     },
     "metadata": {
      "needs_background": "light"
     },
     "output_type": "display_data"
    }
   ],
   "source": [
    "sm.qqplot(reg.resid)"
   ]
  },
  {
   "cell_type": "markdown",
   "id": "f4ecf38e",
   "metadata": {},
   "source": [
    "# Weighted Least Square"
   ]
  },
  {
   "cell_type": "code",
   "execution_count": 189,
   "id": "ec716599",
   "metadata": {},
   "outputs": [],
   "source": [
    "y =np.array(data.charges)"
   ]
  },
  {
   "cell_type": "code",
   "execution_count": 190,
   "id": "7b4fd3ae",
   "metadata": {},
   "outputs": [],
   "source": [
    "residuals = (reg.fittedvalues - y)**2"
   ]
  },
  {
   "cell_type": "code",
   "execution_count": 191,
   "id": "8a3a8a18",
   "metadata": {},
   "outputs": [],
   "source": [
    "data['residuals'] = residuals"
   ]
  },
  {
   "cell_type": "code",
   "execution_count": 192,
   "id": "2fdb3b9f",
   "metadata": {},
   "outputs": [
    {
     "data": {
      "text/html": [
       "<table class=\"simpletable\">\n",
       "<caption>OLS Regression Results</caption>\n",
       "<tr>\n",
       "  <th>Dep. Variable:</th>        <td>residuals</td>    <th>  R-squared:         </th> <td>   0.096</td> \n",
       "</tr>\n",
       "<tr>\n",
       "  <th>Model:</th>                   <td>OLS</td>       <th>  Adj. R-squared:    </th> <td>   0.090</td> \n",
       "</tr>\n",
       "<tr>\n",
       "  <th>Method:</th>             <td>Least Squares</td>  <th>  F-statistic:       </th> <td>   17.63</td> \n",
       "</tr>\n",
       "<tr>\n",
       "  <th>Date:</th>             <td>Tue, 12 Oct 2021</td> <th>  Prob (F-statistic):</th> <td>3.58e-25</td> \n",
       "</tr>\n",
       "<tr>\n",
       "  <th>Time:</th>                 <td>13:39:34</td>     <th>  Log-Likelihood:    </th> <td> -26152.</td> \n",
       "</tr>\n",
       "<tr>\n",
       "  <th>No. Observations:</th>      <td>  1338</td>      <th>  AIC:               </th> <td>5.232e+04</td>\n",
       "</tr>\n",
       "<tr>\n",
       "  <th>Df Residuals:</th>          <td>  1329</td>      <th>  BIC:               </th> <td>5.237e+04</td>\n",
       "</tr>\n",
       "<tr>\n",
       "  <th>Df Model:</th>              <td>     8</td>      <th>                     </th>     <td> </td>    \n",
       "</tr>\n",
       "<tr>\n",
       "  <th>Covariance Type:</th>      <td>nonrobust</td>    <th>                     </th>     <td> </td>    \n",
       "</tr>\n",
       "</table>\n",
       "<table class=\"simpletable\">\n",
       "<tr>\n",
       "        <td></td>           <th>coef</th>     <th>std err</th>      <th>t</th>      <th>P>|t|</th>  <th>[0.025</th>    <th>0.975]</th>  \n",
       "</tr>\n",
       "<tr>\n",
       "  <th>Intercept</th>     <td> 1.394e+07</td> <td> 1.17e+07</td> <td>    1.193</td> <td> 0.233</td> <td>-8.99e+06</td> <td> 3.69e+07</td>\n",
       "</tr>\n",
       "<tr>\n",
       "  <th>children[T.1]</th> <td> 8.197e+06</td> <td>  5.2e+06</td> <td>    1.576</td> <td> 0.115</td> <td>   -2e+06</td> <td> 1.84e+07</td>\n",
       "</tr>\n",
       "<tr>\n",
       "  <th>children[T.2]</th> <td> 1.363e+07</td> <td> 5.75e+06</td> <td>    2.368</td> <td> 0.018</td> <td> 2.34e+06</td> <td> 2.49e+07</td>\n",
       "</tr>\n",
       "<tr>\n",
       "  <th>children[T.3]</th> <td>-3.004e+06</td> <td> 6.76e+06</td> <td>   -0.445</td> <td> 0.657</td> <td>-1.63e+07</td> <td> 1.03e+07</td>\n",
       "</tr>\n",
       "<tr>\n",
       "  <th>children[T.4]</th> <td> 2.191e+07</td> <td> 1.53e+07</td> <td>    1.433</td> <td> 0.152</td> <td>-8.09e+06</td> <td> 5.19e+07</td>\n",
       "</tr>\n",
       "<tr>\n",
       "  <th>children[T.5]</th> <td>-1.216e+07</td> <td> 1.79e+07</td> <td>   -0.678</td> <td> 0.498</td> <td>-4.73e+07</td> <td>  2.3e+07</td>\n",
       "</tr>\n",
       "<tr>\n",
       "  <th>smoker[T.yes]</th> <td> 5.778e+07</td> <td> 5.08e+06</td> <td>   11.368</td> <td> 0.000</td> <td> 4.78e+07</td> <td> 6.77e+07</td>\n",
       "</tr>\n",
       "<tr>\n",
       "  <th>age</th>           <td>-1.588e+04</td> <td> 1.47e+05</td> <td>   -0.108</td> <td> 0.914</td> <td>-3.04e+05</td> <td> 2.72e+05</td>\n",
       "</tr>\n",
       "<tr>\n",
       "  <th>bmi</th>           <td> 2.299e+05</td> <td> 3.38e+05</td> <td>    0.681</td> <td> 0.496</td> <td>-4.32e+05</td> <td> 8.92e+05</td>\n",
       "</tr>\n",
       "</table>\n",
       "<table class=\"simpletable\">\n",
       "<tr>\n",
       "  <th>Omnibus:</th>       <td>1350.773</td> <th>  Durbin-Watson:     </th> <td>   2.066</td> \n",
       "</tr>\n",
       "<tr>\n",
       "  <th>Prob(Omnibus):</th>  <td> 0.000</td>  <th>  Jarque-Bera (JB):  </th> <td>54487.876</td>\n",
       "</tr>\n",
       "<tr>\n",
       "  <th>Skew:</th>           <td> 4.966</td>  <th>  Prob(JB):          </th> <td>    0.00</td> \n",
       "</tr>\n",
       "<tr>\n",
       "  <th>Kurtosis:</th>       <td>32.643</td>  <th>  Cond. No.          </th> <td>    452.</td> \n",
       "</tr>\n",
       "</table><br/><br/>Notes:<br/>[1] Standard Errors assume that the covariance matrix of the errors is correctly specified."
      ],
      "text/plain": [
       "<class 'statsmodels.iolib.summary.Summary'>\n",
       "\"\"\"\n",
       "                            OLS Regression Results                            \n",
       "==============================================================================\n",
       "Dep. Variable:              residuals   R-squared:                       0.096\n",
       "Model:                            OLS   Adj. R-squared:                  0.090\n",
       "Method:                 Least Squares   F-statistic:                     17.63\n",
       "Date:                Tue, 12 Oct 2021   Prob (F-statistic):           3.58e-25\n",
       "Time:                        13:39:34   Log-Likelihood:                -26152.\n",
       "No. Observations:                1338   AIC:                         5.232e+04\n",
       "Df Residuals:                    1329   BIC:                         5.237e+04\n",
       "Df Model:                           8                                         \n",
       "Covariance Type:            nonrobust                                         \n",
       "=================================================================================\n",
       "                    coef    std err          t      P>|t|      [0.025      0.975]\n",
       "---------------------------------------------------------------------------------\n",
       "Intercept      1.394e+07   1.17e+07      1.193      0.233   -8.99e+06    3.69e+07\n",
       "children[T.1]  8.197e+06    5.2e+06      1.576      0.115      -2e+06    1.84e+07\n",
       "children[T.2]  1.363e+07   5.75e+06      2.368      0.018    2.34e+06    2.49e+07\n",
       "children[T.3] -3.004e+06   6.76e+06     -0.445      0.657   -1.63e+07    1.03e+07\n",
       "children[T.4]  2.191e+07   1.53e+07      1.433      0.152   -8.09e+06    5.19e+07\n",
       "children[T.5] -1.216e+07   1.79e+07     -0.678      0.498   -4.73e+07     2.3e+07\n",
       "smoker[T.yes]  5.778e+07   5.08e+06     11.368      0.000    4.78e+07    6.77e+07\n",
       "age           -1.588e+04   1.47e+05     -0.108      0.914   -3.04e+05    2.72e+05\n",
       "bmi            2.299e+05   3.38e+05      0.681      0.496   -4.32e+05    8.92e+05\n",
       "==============================================================================\n",
       "Omnibus:                     1350.773   Durbin-Watson:                   2.066\n",
       "Prob(Omnibus):                  0.000   Jarque-Bera (JB):            54487.876\n",
       "Skew:                           4.966   Prob(JB):                         0.00\n",
       "Kurtosis:                      32.643   Cond. No.                         452.\n",
       "==============================================================================\n",
       "\n",
       "Notes:\n",
       "[1] Standard Errors assume that the covariance matrix of the errors is correctly specified.\n",
       "\"\"\""
      ]
     },
     "execution_count": 192,
     "metadata": {},
     "output_type": "execute_result"
    }
   ],
   "source": [
    "reg_residuals = smf.ols('residuals~age+bmi+children+smoker',data=data).fit()\n",
    "reg_residuals.summary()"
   ]
  },
  {
   "cell_type": "markdown",
   "id": "076c23ae",
   "metadata": {},
   "source": [
    "**Getting the weights array** "
   ]
  },
  {
   "cell_type": "code",
   "execution_count": 193,
   "id": "bbb16ddf",
   "metadata": {},
   "outputs": [],
   "source": [
    "fitted_residuals = reg_residuals.fittedvalues\n",
    "weights = 1/fitted_residuals"
   ]
  },
  {
   "cell_type": "code",
   "execution_count": 194,
   "id": "b896e5f0",
   "metadata": {},
   "outputs": [],
   "source": [
    "data['smoker_dummy'] = pd.Series(np.where(data.smoker.values == 'yes', 1, 0),\n",
    "          data.index)\n",
    "\n",
    "X=np.asarray(data.iloc[:,[0,2,3,8]])\n",
    "Y= np.asarray(data.iloc[:,[6]])\n",
    "import statsmodels.api as sm\n",
    "\n",
    "wls_model = sm.WLS(Y,X, weights= weights )\n",
    "results = wls_model.fit()"
   ]
  },
  {
   "cell_type": "code",
   "execution_count": 195,
   "id": "e736a577",
   "metadata": {},
   "outputs": [
    {
     "data": {
      "text/html": [
       "<table class=\"simpletable\">\n",
       "<caption>WLS Regression Results</caption>\n",
       "<tr>\n",
       "  <th>Dep. Variable:</th>            <td>y</td>        <th>  R-squared (uncentered):</th>      <td>   0.850</td> \n",
       "</tr>\n",
       "<tr>\n",
       "  <th>Model:</th>                   <td>WLS</td>       <th>  Adj. R-squared (uncentered):</th> <td>   0.850</td> \n",
       "</tr>\n",
       "<tr>\n",
       "  <th>Method:</th>             <td>Least Squares</td>  <th>  F-statistic:       </th>          <td>   1896.</td> \n",
       "</tr>\n",
       "<tr>\n",
       "  <th>Date:</th>             <td>Tue, 12 Oct 2021</td> <th>  Prob (F-statistic):</th>           <td>  0.00</td>  \n",
       "</tr>\n",
       "<tr>\n",
       "  <th>Time:</th>                 <td>13:39:39</td>     <th>  Log-Likelihood:    </th>          <td> -13411.</td> \n",
       "</tr>\n",
       "<tr>\n",
       "  <th>No. Observations:</th>      <td>  1338</td>      <th>  AIC:               </th>          <td>2.683e+04</td>\n",
       "</tr>\n",
       "<tr>\n",
       "  <th>Df Residuals:</th>          <td>  1334</td>      <th>  BIC:               </th>          <td>2.685e+04</td>\n",
       "</tr>\n",
       "<tr>\n",
       "  <th>Df Model:</th>              <td>     4</td>      <th>                     </th>              <td> </td>    \n",
       "</tr>\n",
       "<tr>\n",
       "  <th>Covariance Type:</th>      <td>nonrobust</td>    <th>                     </th>              <td> </td>    \n",
       "</tr>\n",
       "</table>\n",
       "<table class=\"simpletable\">\n",
       "<tr>\n",
       "   <td></td>     <th>coef</th>     <th>std err</th>      <th>t</th>      <th>P>|t|</th>  <th>[0.025</th>    <th>0.975]</th>  \n",
       "</tr>\n",
       "<tr>\n",
       "  <th>x1</th> <td>  235.8653</td> <td>    9.082</td> <td>   25.969</td> <td> 0.000</td> <td>  218.048</td> <td>  253.683</td>\n",
       "</tr>\n",
       "<tr>\n",
       "  <th>x2</th> <td>  -36.2661</td> <td>   12.625</td> <td>   -2.873</td> <td> 0.004</td> <td>  -61.033</td> <td>  -11.500</td>\n",
       "</tr>\n",
       "<tr>\n",
       "  <th>x3</th> <td>  316.1644</td> <td>   98.638</td> <td>    3.205</td> <td> 0.001</td> <td>  122.661</td> <td>  509.668</td>\n",
       "</tr>\n",
       "<tr>\n",
       "  <th>x4</th> <td> 2.354e+04</td> <td>  558.415</td> <td>   42.147</td> <td> 0.000</td> <td> 2.24e+04</td> <td> 2.46e+04</td>\n",
       "</tr>\n",
       "</table>\n",
       "<table class=\"simpletable\">\n",
       "<tr>\n",
       "  <th>Omnibus:</th>       <td>553.116</td> <th>  Durbin-Watson:     </th> <td>   2.081</td>\n",
       "</tr>\n",
       "<tr>\n",
       "  <th>Prob(Omnibus):</th> <td> 0.000</td>  <th>  Jarque-Bera (JB):  </th> <td>2140.732</td>\n",
       "</tr>\n",
       "<tr>\n",
       "  <th>Skew:</th>          <td> 2.020</td>  <th>  Prob(JB):          </th> <td>    0.00</td>\n",
       "</tr>\n",
       "<tr>\n",
       "  <th>Kurtosis:</th>      <td> 7.698</td>  <th>  Cond. No.          </th> <td>    205.</td>\n",
       "</tr>\n",
       "</table><br/><br/>Notes:<br/>[1] R² is computed without centering (uncentered) since the model does not contain a constant.<br/>[2] Standard Errors assume that the covariance matrix of the errors is correctly specified."
      ],
      "text/plain": [
       "<class 'statsmodels.iolib.summary.Summary'>\n",
       "\"\"\"\n",
       "                                 WLS Regression Results                                \n",
       "=======================================================================================\n",
       "Dep. Variable:                      y   R-squared (uncentered):                   0.850\n",
       "Model:                            WLS   Adj. R-squared (uncentered):              0.850\n",
       "Method:                 Least Squares   F-statistic:                              1896.\n",
       "Date:                Tue, 12 Oct 2021   Prob (F-statistic):                        0.00\n",
       "Time:                        13:39:39   Log-Likelihood:                         -13411.\n",
       "No. Observations:                1338   AIC:                                  2.683e+04\n",
       "Df Residuals:                    1334   BIC:                                  2.685e+04\n",
       "Df Model:                           4                                                  \n",
       "Covariance Type:            nonrobust                                                  \n",
       "==============================================================================\n",
       "                 coef    std err          t      P>|t|      [0.025      0.975]\n",
       "------------------------------------------------------------------------------\n",
       "x1           235.8653      9.082     25.969      0.000     218.048     253.683\n",
       "x2           -36.2661     12.625     -2.873      0.004     -61.033     -11.500\n",
       "x3           316.1644     98.638      3.205      0.001     122.661     509.668\n",
       "x4          2.354e+04    558.415     42.147      0.000    2.24e+04    2.46e+04\n",
       "==============================================================================\n",
       "Omnibus:                      553.116   Durbin-Watson:                   2.081\n",
       "Prob(Omnibus):                  0.000   Jarque-Bera (JB):             2140.732\n",
       "Skew:                           2.020   Prob(JB):                         0.00\n",
       "Kurtosis:                       7.698   Cond. No.                         205.\n",
       "==============================================================================\n",
       "\n",
       "Notes:\n",
       "[1] R² is computed without centering (uncentered) since the model does not contain a constant.\n",
       "[2] Standard Errors assume that the covariance matrix of the errors is correctly specified.\n",
       "\"\"\""
      ]
     },
     "execution_count": 195,
     "metadata": {},
     "output_type": "execute_result"
    }
   ],
   "source": [
    "results.summary()"
   ]
  },
  {
   "cell_type": "code",
   "execution_count": 196,
   "id": "bf5f51bb",
   "metadata": {},
   "outputs": [
    {
     "data": {
      "text/plain": [
       "Text(0.5, 1.0, 'Fitted Values vs. Residuals')"
      ]
     },
     "execution_count": 196,
     "metadata": {},
     "output_type": "execute_result"
    },
    {
     "data": {
      "image/png": "[encoded data removed]",
      "text/plain": [
       "<Figure size 432x288 with 1 Axes>"
      ]
     },
     "metadata": {
      "needs_background": "light"
     },
     "output_type": "display_data"
    }
   ],
   "source": [
    "p2 = results.fittedvalues\n",
    "res = results.resid\n",
    "plt.scatter(p2,res)\n",
    "plt.xlabel(\"Fitted Values\")\n",
    "plt.ylabel(\"Residual\")\n",
    "plt.title(\"Fitted Values vs. Residuals\")"
   ]
  },
  {
   "cell_type": "code",
   "execution_count": 198,
   "id": "24e48ead",
   "metadata": {},
   "outputs": [
    {
     "data": {
      "text/plain": [
       "1258"
      ]
     },
     "execution_count": 198,
     "metadata": {},
     "output_type": "execute_result"
    }
   ],
   "source": [
    "data_new = data[~atyp_cook]\n",
    "len(data_new)"
   ]
  },
  {
   "cell_type": "code",
   "execution_count": 197,
   "id": "d1222e17",
   "metadata": {},
   "outputs": [
    {
     "data": {
      "text/plain": [
       "(1338, 9)"
      ]
     },
     "execution_count": 197,
     "metadata": {},
     "output_type": "execute_result"
    }
   ],
   "source": [
    "data.shape"
   ]
  },
  {
   "cell_type": "markdown",
   "id": "7e56b1aa",
   "metadata": {},
   "source": [
    "# After removing Influential Points"
   ]
  },
  {
   "cell_type": "code",
   "execution_count": 199,
   "id": "b602931e",
   "metadata": {},
   "outputs": [
    {
     "data": {
      "text/html": [
       "<table class=\"simpletable\">\n",
       "<caption>OLS Regression Results</caption>\n",
       "<tr>\n",
       "  <th>Dep. Variable:</th>         <td>charges</td>     <th>  R-squared:         </th> <td>   0.835</td> \n",
       "</tr>\n",
       "<tr>\n",
       "  <th>Model:</th>                   <td>OLS</td>       <th>  Adj. R-squared:    </th> <td>   0.834</td> \n",
       "</tr>\n",
       "<tr>\n",
       "  <th>Method:</th>             <td>Least Squares</td>  <th>  F-statistic:       </th> <td>   789.5</td> \n",
       "</tr>\n",
       "<tr>\n",
       "  <th>Date:</th>             <td>Tue, 12 Oct 2021</td> <th>  Prob (F-statistic):</th>  <td>  0.00</td>  \n",
       "</tr>\n",
       "<tr>\n",
       "  <th>Time:</th>                 <td>13:43:50</td>     <th>  Log-Likelihood:    </th> <td> -12418.</td> \n",
       "</tr>\n",
       "<tr>\n",
       "  <th>No. Observations:</th>      <td>  1258</td>      <th>  AIC:               </th> <td>2.485e+04</td>\n",
       "</tr>\n",
       "<tr>\n",
       "  <th>Df Residuals:</th>          <td>  1249</td>      <th>  BIC:               </th> <td>2.490e+04</td>\n",
       "</tr>\n",
       "<tr>\n",
       "  <th>Df Model:</th>              <td>     8</td>      <th>                     </th>     <td> </td>    \n",
       "</tr>\n",
       "<tr>\n",
       "  <th>Covariance Type:</th>      <td>nonrobust</td>    <th>                     </th>     <td> </td>    \n",
       "</tr>\n",
       "</table>\n",
       "<table class=\"simpletable\">\n",
       "<tr>\n",
       "        <td></td>           <th>coef</th>     <th>std err</th>      <th>t</th>      <th>P>|t|</th>  <th>[0.025</th>    <th>0.975]</th>  \n",
       "</tr>\n",
       "<tr>\n",
       "  <th>Intercept</th>     <td>-1.135e+04</td> <td>  771.065</td> <td>  -14.717</td> <td> 0.000</td> <td>-1.29e+04</td> <td>-9835.047</td>\n",
       "</tr>\n",
       "<tr>\n",
       "  <th>children[T.1]</th> <td>  -35.5796</td> <td>  333.966</td> <td>   -0.107</td> <td> 0.915</td> <td> -690.775</td> <td>  619.616</td>\n",
       "</tr>\n",
       "<tr>\n",
       "  <th>children[T.2]</th> <td> 1416.3034</td> <td>  377.741</td> <td>    3.749</td> <td> 0.000</td> <td>  675.226</td> <td> 2157.381</td>\n",
       "</tr>\n",
       "<tr>\n",
       "  <th>children[T.3]</th> <td>  952.5492</td> <td>  438.513</td> <td>    2.172</td> <td> 0.030</td> <td>   92.245</td> <td> 1812.853</td>\n",
       "</tr>\n",
       "<tr>\n",
       "  <th>children[T.4]</th> <td> 1446.9056</td> <td> 1232.761</td> <td>    1.174</td> <td> 0.241</td> <td> -971.606</td> <td> 3865.417</td>\n",
       "</tr>\n",
       "<tr>\n",
       "  <th>children[T.5]</th> <td> 2218.0274</td> <td> 1275.955</td> <td>    1.738</td> <td> 0.082</td> <td> -285.225</td> <td> 4721.280</td>\n",
       "</tr>\n",
       "<tr>\n",
       "  <th>smoker[T.yes]</th> <td> 2.448e+04</td> <td>  337.370</td> <td>   72.565</td> <td> 0.000</td> <td> 2.38e+04</td> <td> 2.51e+04</td>\n",
       "</tr>\n",
       "<tr>\n",
       "  <th>age</th>           <td>  254.4497</td> <td>    9.499</td> <td>   26.786</td> <td> 0.000</td> <td>  235.813</td> <td>  273.086</td>\n",
       "</tr>\n",
       "<tr>\n",
       "  <th>bmi</th>           <td>  281.5452</td> <td>   22.488</td> <td>   12.520</td> <td> 0.000</td> <td>  237.428</td> <td>  325.663</td>\n",
       "</tr>\n",
       "</table>\n",
       "<table class=\"simpletable\">\n",
       "<tr>\n",
       "  <th>Omnibus:</th>       <td>64.551</td> <th>  Durbin-Watson:     </th> <td>   2.041</td>\n",
       "</tr>\n",
       "<tr>\n",
       "  <th>Prob(Omnibus):</th> <td> 0.000</td> <th>  Jarque-Bera (JB):  </th> <td> 117.079</td>\n",
       "</tr>\n",
       "<tr>\n",
       "  <th>Skew:</th>          <td> 0.375</td> <th>  Prob(JB):          </th> <td>3.77e-26</td>\n",
       "</tr>\n",
       "<tr>\n",
       "  <th>Kurtosis:</th>      <td> 4.292</td> <th>  Cond. No.          </th> <td>    498.</td>\n",
       "</tr>\n",
       "</table><br/><br/>Notes:<br/>[1] Standard Errors assume that the covariance matrix of the errors is correctly specified."
      ],
      "text/plain": [
       "<class 'statsmodels.iolib.summary.Summary'>\n",
       "\"\"\"\n",
       "                            OLS Regression Results                            \n",
       "==============================================================================\n",
       "Dep. Variable:                charges   R-squared:                       0.835\n",
       "Model:                            OLS   Adj. R-squared:                  0.834\n",
       "Method:                 Least Squares   F-statistic:                     789.5\n",
       "Date:                Tue, 12 Oct 2021   Prob (F-statistic):               0.00\n",
       "Time:                        13:43:50   Log-Likelihood:                -12418.\n",
       "No. Observations:                1258   AIC:                         2.485e+04\n",
       "Df Residuals:                    1249   BIC:                         2.490e+04\n",
       "Df Model:                           8                                         \n",
       "Covariance Type:            nonrobust                                         \n",
       "=================================================================================\n",
       "                    coef    std err          t      P>|t|      [0.025      0.975]\n",
       "---------------------------------------------------------------------------------\n",
       "Intercept     -1.135e+04    771.065    -14.717      0.000   -1.29e+04   -9835.047\n",
       "children[T.1]   -35.5796    333.966     -0.107      0.915    -690.775     619.616\n",
       "children[T.2]  1416.3034    377.741      3.749      0.000     675.226    2157.381\n",
       "children[T.3]   952.5492    438.513      2.172      0.030      92.245    1812.853\n",
       "children[T.4]  1446.9056   1232.761      1.174      0.241    -971.606    3865.417\n",
       "children[T.5]  2218.0274   1275.955      1.738      0.082    -285.225    4721.280\n",
       "smoker[T.yes]  2.448e+04    337.370     72.565      0.000    2.38e+04    2.51e+04\n",
       "age             254.4497      9.499     26.786      0.000     235.813     273.086\n",
       "bmi             281.5452     22.488     12.520      0.000     237.428     325.663\n",
       "==============================================================================\n",
       "Omnibus:                       64.551   Durbin-Watson:                   2.041\n",
       "Prob(Omnibus):                  0.000   Jarque-Bera (JB):              117.079\n",
       "Skew:                           0.375   Prob(JB):                     3.77e-26\n",
       "Kurtosis:                       4.292   Cond. No.                         498.\n",
       "==============================================================================\n",
       "\n",
       "Notes:\n",
       "[1] Standard Errors assume that the covariance matrix of the errors is correctly specified.\n",
       "\"\"\""
      ]
     },
     "execution_count": 199,
     "metadata": {},
     "output_type": "execute_result"
    }
   ],
   "source": [
    "reg_clean = smf.ols('charges~age+bmi+children+smoker',data=data_new).fit()\n",
    "reg_clean.summary()"
   ]
  },
  {
   "cell_type": "code",
   "execution_count": 201,
   "id": "876c5e27",
   "metadata": {},
   "outputs": [],
   "source": [
    "y_clean =np.array(data_new.charges)"
   ]
  },
  {
   "cell_type": "code",
   "execution_count": 202,
   "id": "03d3edec",
   "metadata": {},
   "outputs": [
    {
     "name": "stderr",
     "output_type": "stream",
     "text": [
      "/var/folders/dk/33g3mdp15_99xjmt5cn7kk3c0000gn/T/ipykernel_18628/1365064724.py:3: SettingWithCopyWarning: \n",
      "A value is trying to be set on a copy of a slice from a DataFrame.\n",
      "Try using .loc[row_indexer,col_indexer] = value instead\n",
      "\n",
      "See the caveats in the documentation: https://pandas.pydata.org/pandas-docs/stable/user_guide/indexing.html#returning-a-view-versus-a-copy\n",
      "  data_new['residuals'] = residuals_clean\n"
     ]
    },
    {
     "data": {
      "text/html": [
       "<table class=\"simpletable\">\n",
       "<caption>OLS Regression Results</caption>\n",
       "<tr>\n",
       "  <th>Dep. Variable:</th>        <td>residuals</td>    <th>  R-squared:         </th> <td>   0.329</td> \n",
       "</tr>\n",
       "<tr>\n",
       "  <th>Model:</th>                   <td>OLS</td>       <th>  Adj. R-squared:    </th> <td>   0.325</td> \n",
       "</tr>\n",
       "<tr>\n",
       "  <th>Method:</th>             <td>Least Squares</td>  <th>  F-statistic:       </th> <td>   76.59</td> \n",
       "</tr>\n",
       "<tr>\n",
       "  <th>Date:</th>             <td>Tue, 12 Oct 2021</td> <th>  Prob (F-statistic):</th> <td>8.05e-103</td>\n",
       "</tr>\n",
       "<tr>\n",
       "  <th>Time:</th>                 <td>13:47:01</td>     <th>  Log-Likelihood:    </th> <td> -23550.</td> \n",
       "</tr>\n",
       "<tr>\n",
       "  <th>No. Observations:</th>      <td>  1258</td>      <th>  AIC:               </th> <td>4.712e+04</td>\n",
       "</tr>\n",
       "<tr>\n",
       "  <th>Df Residuals:</th>          <td>  1249</td>      <th>  BIC:               </th> <td>4.716e+04</td>\n",
       "</tr>\n",
       "<tr>\n",
       "  <th>Df Model:</th>              <td>     8</td>      <th>                     </th>     <td> </td>    \n",
       "</tr>\n",
       "<tr>\n",
       "  <th>Covariance Type:</th>      <td>nonrobust</td>    <th>                     </th>     <td> </td>    \n",
       "</tr>\n",
       "</table>\n",
       "<table class=\"simpletable\">\n",
       "<tr>\n",
       "        <td></td>           <th>coef</th>     <th>std err</th>      <th>t</th>      <th>P>|t|</th>  <th>[0.025</th>    <th>0.975]</th>  \n",
       "</tr>\n",
       "<tr>\n",
       "  <th>Intercept</th>     <td> 6.651e+06</td> <td> 5.37e+06</td> <td>    1.238</td> <td> 0.216</td> <td>-3.89e+06</td> <td> 1.72e+07</td>\n",
       "</tr>\n",
       "<tr>\n",
       "  <th>children[T.1]</th> <td> 1.698e+06</td> <td> 2.33e+06</td> <td>    0.730</td> <td> 0.466</td> <td>-2.87e+06</td> <td> 6.26e+06</td>\n",
       "</tr>\n",
       "<tr>\n",
       "  <th>children[T.2]</th> <td>-4.188e+05</td> <td> 2.63e+06</td> <td>   -0.159</td> <td> 0.874</td> <td>-5.58e+06</td> <td> 4.74e+06</td>\n",
       "</tr>\n",
       "<tr>\n",
       "  <th>children[T.3]</th> <td>-5.783e+06</td> <td> 3.05e+06</td> <td>   -1.893</td> <td> 0.059</td> <td>-1.18e+07</td> <td> 2.11e+05</td>\n",
       "</tr>\n",
       "<tr>\n",
       "  <th>children[T.4]</th> <td>-1.017e+07</td> <td> 8.59e+06</td> <td>   -1.184</td> <td> 0.236</td> <td> -2.7e+07</td> <td> 6.68e+06</td>\n",
       "</tr>\n",
       "<tr>\n",
       "  <th>children[T.5]</th> <td>-9.865e+06</td> <td> 8.89e+06</td> <td>   -1.110</td> <td> 0.267</td> <td>-2.73e+07</td> <td> 7.57e+06</td>\n",
       "</tr>\n",
       "<tr>\n",
       "  <th>smoker[T.yes]</th> <td> 5.738e+07</td> <td> 2.35e+06</td> <td>   24.413</td> <td> 0.000</td> <td> 5.28e+07</td> <td>  6.2e+07</td>\n",
       "</tr>\n",
       "<tr>\n",
       "  <th>age</th>           <td> 9129.2685</td> <td> 6.62e+04</td> <td>    0.138</td> <td> 0.890</td> <td>-1.21e+05</td> <td> 1.39e+05</td>\n",
       "</tr>\n",
       "<tr>\n",
       "  <th>bmi</th>           <td> 1.445e+05</td> <td> 1.57e+05</td> <td>    0.922</td> <td> 0.357</td> <td>-1.63e+05</td> <td> 4.52e+05</td>\n",
       "</tr>\n",
       "</table>\n",
       "<table class=\"simpletable\">\n",
       "<tr>\n",
       "  <th>Omnibus:</th>       <td>1222.444</td> <th>  Durbin-Watson:     </th> <td>   1.950</td> \n",
       "</tr>\n",
       "<tr>\n",
       "  <th>Prob(Omnibus):</th>  <td> 0.000</td>  <th>  Jarque-Bera (JB):  </th> <td>42406.327</td>\n",
       "</tr>\n",
       "<tr>\n",
       "  <th>Skew:</th>           <td> 4.710</td>  <th>  Prob(JB):          </th> <td>    0.00</td> \n",
       "</tr>\n",
       "<tr>\n",
       "  <th>Kurtosis:</th>       <td>29.838</td>  <th>  Cond. No.          </th> <td>    498.</td> \n",
       "</tr>\n",
       "</table><br/><br/>Notes:<br/>[1] Standard Errors assume that the covariance matrix of the errors is correctly specified."
      ],
      "text/plain": [
       "<class 'statsmodels.iolib.summary.Summary'>\n",
       "\"\"\"\n",
       "                            OLS Regression Results                            \n",
       "==============================================================================\n",
       "Dep. Variable:              residuals   R-squared:                       0.329\n",
       "Model:                            OLS   Adj. R-squared:                  0.325\n",
       "Method:                 Least Squares   F-statistic:                     76.59\n",
       "Date:                Tue, 12 Oct 2021   Prob (F-statistic):          8.05e-103\n",
       "Time:                        13:47:01   Log-Likelihood:                -23550.\n",
       "No. Observations:                1258   AIC:                         4.712e+04\n",
       "Df Residuals:                    1249   BIC:                         4.716e+04\n",
       "Df Model:                           8                                         \n",
       "Covariance Type:            nonrobust                                         \n",
       "=================================================================================\n",
       "                    coef    std err          t      P>|t|      [0.025      0.975]\n",
       "---------------------------------------------------------------------------------\n",
       "Intercept      6.651e+06   5.37e+06      1.238      0.216   -3.89e+06    1.72e+07\n",
       "children[T.1]  1.698e+06   2.33e+06      0.730      0.466   -2.87e+06    6.26e+06\n",
       "children[T.2] -4.188e+05   2.63e+06     -0.159      0.874   -5.58e+06    4.74e+06\n",
       "children[T.3] -5.783e+06   3.05e+06     -1.893      0.059   -1.18e+07    2.11e+05\n",
       "children[T.4] -1.017e+07   8.59e+06     -1.184      0.236    -2.7e+07    6.68e+06\n",
       "children[T.5] -9.865e+06   8.89e+06     -1.110      0.267   -2.73e+07    7.57e+06\n",
       "smoker[T.yes]  5.738e+07   2.35e+06     24.413      0.000    5.28e+07     6.2e+07\n",
       "age            9129.2685   6.62e+04      0.138      0.890   -1.21e+05    1.39e+05\n",
       "bmi            1.445e+05   1.57e+05      0.922      0.357   -1.63e+05    4.52e+05\n",
       "==============================================================================\n",
       "Omnibus:                     1222.444   Durbin-Watson:                   1.950\n",
       "Prob(Omnibus):                  0.000   Jarque-Bera (JB):            42406.327\n",
       "Skew:                           4.710   Prob(JB):                         0.00\n",
       "Kurtosis:                      29.838   Cond. No.                         498.\n",
       "==============================================================================\n",
       "\n",
       "Notes:\n",
       "[1] Standard Errors assume that the covariance matrix of the errors is correctly specified.\n",
       "\"\"\""
      ]
     },
     "execution_count": 202,
     "metadata": {},
     "output_type": "execute_result"
    }
   ],
   "source": [
    "residuals_clean = (reg_clean.fittedvalues - y_clean)**2\n",
    "\n",
    "data_new['residuals'] = residuals_clean\n",
    "\n",
    "reg_residuals_clean = smf.ols('residuals~age+bmi+children+smoker',data=data_new).fit()\n",
    "reg_residuals_clean.summary()"
   ]
  },
  {
   "cell_type": "code",
   "execution_count": 203,
   "id": "9bf73068",
   "metadata": {},
   "outputs": [],
   "source": [
    "fitted_residuals_clean = reg_residuals_clean.fittedvalues\n",
    "weights_clean = 1/fitted_residuals_clean"
   ]
  },
  {
   "cell_type": "code",
   "execution_count": 204,
   "id": "ec4aa6cb",
   "metadata": {},
   "outputs": [
    {
     "name": "stderr",
     "output_type": "stream",
     "text": [
      "/var/folders/dk/33g3mdp15_99xjmt5cn7kk3c0000gn/T/ipykernel_18628/1037214679.py:1: SettingWithCopyWarning: \n",
      "A value is trying to be set on a copy of a slice from a DataFrame.\n",
      "Try using .loc[row_indexer,col_indexer] = value instead\n",
      "\n",
      "See the caveats in the documentation: https://pandas.pydata.org/pandas-docs/stable/user_guide/indexing.html#returning-a-view-versus-a-copy\n",
      "  data_new['smoker_dummy'] = pd.Series(np.where(data_new.smoker.values == 'yes', 1, 0),\n"
     ]
    }
   ],
   "source": [
    "data_new['smoker_dummy'] = pd.Series(np.where(data_new.smoker.values == 'yes', 1, 0),\n",
    "          data_new.index)\n",
    "\n",
    "X_clean=np.asarray(data_new.iloc[:,[0,2,3,8]])\n",
    "Y_clean= np.asarray(data_new.iloc[:,[6]])\n",
    "import statsmodels.api as sm\n",
    "\n",
    "wls_model_clean = sm.WLS(Y_clean,X_clean, weights= weights_clean )\n",
    "results_clean = wls_model_clean.fit()"
   ]
  },
  {
   "cell_type": "code",
   "execution_count": 205,
   "id": "9509a034",
   "metadata": {},
   "outputs": [
    {
     "data": {
      "text/html": [
       "<table class=\"simpletable\">\n",
       "<caption>WLS Regression Results</caption>\n",
       "<tr>\n",
       "  <th>Dep. Variable:</th>            <td>y</td>        <th>  R-squared (uncentered):</th>      <td>   0.918</td> \n",
       "</tr>\n",
       "<tr>\n",
       "  <th>Model:</th>                   <td>WLS</td>       <th>  Adj. R-squared (uncentered):</th> <td>   0.917</td> \n",
       "</tr>\n",
       "<tr>\n",
       "  <th>Method:</th>             <td>Least Squares</td>  <th>  F-statistic:       </th>          <td>   3489.</td> \n",
       "</tr>\n",
       "<tr>\n",
       "  <th>Date:</th>             <td>Tue, 12 Oct 2021</td> <th>  Prob (F-statistic):</th>           <td>  0.00</td>  \n",
       "</tr>\n",
       "<tr>\n",
       "  <th>Time:</th>                 <td>13:47:31</td>     <th>  Log-Likelihood:    </th>          <td> -12103.</td> \n",
       "</tr>\n",
       "<tr>\n",
       "  <th>No. Observations:</th>      <td>  1258</td>      <th>  AIC:               </th>          <td>2.421e+04</td>\n",
       "</tr>\n",
       "<tr>\n",
       "  <th>Df Residuals:</th>          <td>  1254</td>      <th>  BIC:               </th>          <td>2.424e+04</td>\n",
       "</tr>\n",
       "<tr>\n",
       "  <th>Df Model:</th>              <td>     4</td>      <th>                     </th>              <td> </td>    \n",
       "</tr>\n",
       "<tr>\n",
       "  <th>Covariance Type:</th>      <td>nonrobust</td>    <th>                     </th>              <td> </td>    \n",
       "</tr>\n",
       "</table>\n",
       "<table class=\"simpletable\">\n",
       "<tr>\n",
       "   <td></td>     <th>coef</th>     <th>std err</th>      <th>t</th>      <th>P>|t|</th>  <th>[0.025</th>    <th>0.975]</th>  \n",
       "</tr>\n",
       "<tr>\n",
       "  <th>x1</th> <td>  238.2296</td> <td>    5.930</td> <td>   40.171</td> <td> 0.000</td> <td>  226.595</td> <td>  249.864</td>\n",
       "</tr>\n",
       "<tr>\n",
       "  <th>x2</th> <td>  -56.7657</td> <td>    8.279</td> <td>   -6.857</td> <td> 0.000</td> <td>  -73.007</td> <td>  -40.524</td>\n",
       "</tr>\n",
       "<tr>\n",
       "  <th>x3</th> <td>  180.1596</td> <td>   45.571</td> <td>    3.953</td> <td> 0.000</td> <td>   90.755</td> <td>  269.564</td>\n",
       "</tr>\n",
       "<tr>\n",
       "  <th>x4</th> <td> 2.441e+04</td> <td>  515.437</td> <td>   47.350</td> <td> 0.000</td> <td> 2.34e+04</td> <td> 2.54e+04</td>\n",
       "</tr>\n",
       "</table>\n",
       "<table class=\"simpletable\">\n",
       "<tr>\n",
       "  <th>Omnibus:</th>       <td>617.036</td> <th>  Durbin-Watson:     </th> <td>   1.970</td>\n",
       "</tr>\n",
       "<tr>\n",
       "  <th>Prob(Omnibus):</th> <td> 0.000</td>  <th>  Jarque-Bera (JB):  </th> <td>3753.298</td>\n",
       "</tr>\n",
       "<tr>\n",
       "  <th>Skew:</th>          <td> 2.238</td>  <th>  Prob(JB):          </th> <td>    0.00</td>\n",
       "</tr>\n",
       "<tr>\n",
       "  <th>Kurtosis:</th>      <td>10.181</td>  <th>  Cond. No.          </th> <td>    307.</td>\n",
       "</tr>\n",
       "</table><br/><br/>Notes:<br/>[1] R² is computed without centering (uncentered) since the model does not contain a constant.<br/>[2] Standard Errors assume that the covariance matrix of the errors is correctly specified."
      ],
      "text/plain": [
       "<class 'statsmodels.iolib.summary.Summary'>\n",
       "\"\"\"\n",
       "                                 WLS Regression Results                                \n",
       "=======================================================================================\n",
       "Dep. Variable:                      y   R-squared (uncentered):                   0.918\n",
       "Model:                            WLS   Adj. R-squared (uncentered):              0.917\n",
       "Method:                 Least Squares   F-statistic:                              3489.\n",
       "Date:                Tue, 12 Oct 2021   Prob (F-statistic):                        0.00\n",
       "Time:                        13:47:31   Log-Likelihood:                         -12103.\n",
       "No. Observations:                1258   AIC:                                  2.421e+04\n",
       "Df Residuals:                    1254   BIC:                                  2.424e+04\n",
       "Df Model:                           4                                                  \n",
       "Covariance Type:            nonrobust                                                  \n",
       "==============================================================================\n",
       "                 coef    std err          t      P>|t|      [0.025      0.975]\n",
       "------------------------------------------------------------------------------\n",
       "x1           238.2296      5.930     40.171      0.000     226.595     249.864\n",
       "x2           -56.7657      8.279     -6.857      0.000     -73.007     -40.524\n",
       "x3           180.1596     45.571      3.953      0.000      90.755     269.564\n",
       "x4          2.441e+04    515.437     47.350      0.000    2.34e+04    2.54e+04\n",
       "==============================================================================\n",
       "Omnibus:                      617.036   Durbin-Watson:                   1.970\n",
       "Prob(Omnibus):                  0.000   Jarque-Bera (JB):             3753.298\n",
       "Skew:                           2.238   Prob(JB):                         0.00\n",
       "Kurtosis:                      10.181   Cond. No.                         307.\n",
       "==============================================================================\n",
       "\n",
       "Notes:\n",
       "[1] R² is computed without centering (uncentered) since the model does not contain a constant.\n",
       "[2] Standard Errors assume that the covariance matrix of the errors is correctly specified.\n",
       "\"\"\""
      ]
     },
     "execution_count": 205,
     "metadata": {},
     "output_type": "execute_result"
    }
   ],
   "source": [
    "results_clean.summary()"
   ]
  },
  {
   "cell_type": "code",
   "execution_count": 207,
   "id": "c3929ad2",
   "metadata": {},
   "outputs": [
    {
     "data": {
      "text/plain": [
       "Text(0.5, 1.0, 'Fitted Values vs. Residuals')"
      ]
     },
     "execution_count": 207,
     "metadata": {},
     "output_type": "execute_result"
    },
    {
     "data": {
      "image/png": "[encoded data removed]",
      "text/plain": [
       "<Figure size 432x288 with 1 Axes>"
      ]
     },
     "metadata": {
      "needs_background": "light"
     },
     "output_type": "display_data"
    }
   ],
   "source": [
    "p2 = results_clean.fittedvalues\n",
    "res = results_clean.resid\n",
    "plt.scatter(p2,res)\n",
    "plt.xlabel(\"Fitted Values\")\n",
    "plt.ylabel(\"Residual\")\n",
    "plt.title(\"Fitted Values vs. Residuals\")"
   ]
  }
 ],
 "metadata": {
  "kernelspec": {
   "display_name": "Python 3 (ipykernel)",
   "language": "python",
   "name": "python3"
  },
  "language_info": {
   "codemirror_mode": {
    "name": "ipython",
    "version": 3
   },
   "file_extension": ".py",
   "mimetype": "text/x-python",
   "name": "python",
   "nbconvert_exporter": "python",
   "pygments_lexer": "ipython3",
   "version": "3.8.2"
  }
 },
 "nbformat": 4,
 "nbformat_minor": 5
}
